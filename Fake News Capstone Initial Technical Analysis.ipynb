{
 "cells": [
  {
   "cell_type": "markdown",
   "id": "f978e2ba",
   "metadata": {},
   "source": [
    "# Capstone Project 20:1 - Classifying Fake News Initial Analysis"
   ]
  },
  {
   "cell_type": "code",
   "execution_count": 1,
   "id": "11aaf7d3",
   "metadata": {},
   "outputs": [
    {
     "name": "stderr",
     "output_type": "stream",
     "text": [
      "[nltk_data] Downloading package words to\n",
      "[nltk_data]     C:\\Users\\mpaci\\AppData\\Roaming\\nltk_data...\n",
      "[nltk_data]   Package words is already up-to-date!\n",
      "[nltk_data] Downloading package stopwords to\n",
      "[nltk_data]     C:\\Users\\mpaci\\AppData\\Roaming\\nltk_data...\n",
      "[nltk_data]   Package stopwords is already up-to-date!\n"
     ]
    }
   ],
   "source": [
    "import matplotlib.pyplot as plt\n",
    "import pandas as pd\n",
    "import numpy as np\n",
    "import seaborn as sns\n",
    "import plotly.express as px\n",
    "import nltk\n",
    "import string\n",
    "import time\n",
    "\n",
    "from IPython.display import Markdown, display\n",
    "\n",
    "from nltk.stem import PorterStemmer, WordNetLemmatizer\n",
    "from nltk import word_tokenize, sent_tokenize, pos_tag\n",
    "from nltk.corpus import stopwords\n",
    "from collections import Counter\n",
    "\n",
    "nltk.download('words')\n",
    "nltk.download('stopwords')\n",
    "\n",
    "from gensim.models import KeyedVectors\n",
    "\n",
    "from sklearn.linear_model import LogisticRegression\n",
    "from sklearn.feature_extraction.text import CountVectorizer, TfidfVectorizer\n",
    "from sklearn.pipeline import Pipeline\n",
    "from sklearn.model_selection import train_test_split, GridSearchCV, RandomizedSearchCV \n",
    "from sklearn.naive_bayes import MultinomialNB\n",
    "from sklearn.metrics import mean_squared_error, accuracy_score, recall_score, f1_score , precision_score, classification_report\n",
    "from sklearn.metrics import confusion_matrix, ConfusionMatrixDisplay, precision_recall_curve, auc, roc_curve\n",
    "from sklearn.tree import DecisionTreeClassifier\n",
    "from sklearn.svm import SVC\n",
    "from sklearn.preprocessing import MinMaxScaler\n",
    "\n",
    "import tensorflow as tf\n",
    "from tensorflow.keras import Input\n",
    "from tensorflow.keras.models import Sequential\n",
    "from tensorflow.keras.metrics import Precision, Recall\n",
    "from tensorflow.keras.layers import Embedding, Dense, LSTM, SimpleRNN, Flatten, MaxPooling1D, Conv1D, GlobalAveragePooling1D\n",
    "from tensorflow.keras.preprocessing.text import Tokenizer\n",
    "from tensorflow.keras.preprocessing.sequence import pad_sequences\n",
    "from tensorflow.keras.wrappers.scikit_learn import KerasClassifier\n",
    "from tensorflow.keras.utils import to_categorical\n",
    "\n",
    "from lime.lime_text import LimeTextExplainer\n",
    "\n",
    "from keras import backend as K\n",
    "\n",
    "import warnings\n",
    "warnings.filterwarnings(\"ignore\")\n",
    "sns.set_style(\"whitegrid\")\n",
    "sns.set_palette(\"rocket\")"
   ]
  },
  {
   "cell_type": "markdown",
   "id": "db392846",
   "metadata": {},
   "source": [
    "<a id=\"section1\"></a>\n",
    "# Part 1: Data Collection, Analysis and Preprocessing"
   ]
  },
  {
   "cell_type": "markdown",
   "id": "43a9bbe8",
   "metadata": {},
   "source": [
    "<a id=\"section1A\"></a>\n",
    "## 1A: Data Collection "
   ]
  },
  {
   "cell_type": "markdown",
   "id": "b25bac39",
   "metadata": {},
   "source": [
    "The dataset to be used in this analysis is the [Fake News Classification Dataset](https://www.kaggle.com/datasets/saurabhshahane/fake-news-classification) from Kaggle.\n"
   ]
  },
  {
   "cell_type": "code",
   "execution_count": 2,
   "id": "43f60454",
   "metadata": {},
   "outputs": [],
   "source": [
    "df_original = pd.read_csv('data/WELFake_Dataset.csv')"
   ]
  },
  {
   "cell_type": "code",
   "execution_count": 3,
   "id": "783a35c7",
   "metadata": {
    "scrolled": true
   },
   "outputs": [
    {
     "data": {
      "text/html": [
       "<div>\n",
       "<style scoped>\n",
       "    .dataframe tbody tr th:only-of-type {\n",
       "        vertical-align: middle;\n",
       "    }\n",
       "\n",
       "    .dataframe tbody tr th {\n",
       "        vertical-align: top;\n",
       "    }\n",
       "\n",
       "    .dataframe thead th {\n",
       "        text-align: right;\n",
       "    }\n",
       "</style>\n",
       "<table border=\"1\" class=\"dataframe\">\n",
       "  <thead>\n",
       "    <tr style=\"text-align: right;\">\n",
       "      <th></th>\n",
       "      <th>Unnamed: 0</th>\n",
       "      <th>title</th>\n",
       "      <th>text</th>\n",
       "      <th>label</th>\n",
       "    </tr>\n",
       "  </thead>\n",
       "  <tbody>\n",
       "    <tr>\n",
       "      <th>0</th>\n",
       "      <td>0</td>\n",
       "      <td>LAW ENFORCEMENT ON HIGH ALERT Following Threat...</td>\n",
       "      <td>No comment is expected from Barack Obama Membe...</td>\n",
       "      <td>1</td>\n",
       "    </tr>\n",
       "    <tr>\n",
       "      <th>1</th>\n",
       "      <td>1</td>\n",
       "      <td>NaN</td>\n",
       "      <td>Did they post their votes for Hillary already?</td>\n",
       "      <td>1</td>\n",
       "    </tr>\n",
       "    <tr>\n",
       "      <th>2</th>\n",
       "      <td>2</td>\n",
       "      <td>UNBELIEVABLE! OBAMA’S ATTORNEY GENERAL SAYS MO...</td>\n",
       "      <td>Now, most of the demonstrators gathered last ...</td>\n",
       "      <td>1</td>\n",
       "    </tr>\n",
       "    <tr>\n",
       "      <th>3</th>\n",
       "      <td>3</td>\n",
       "      <td>Bobby Jindal, raised Hindu, uses story of Chri...</td>\n",
       "      <td>A dozen politically active pastors came here f...</td>\n",
       "      <td>0</td>\n",
       "    </tr>\n",
       "    <tr>\n",
       "      <th>4</th>\n",
       "      <td>4</td>\n",
       "      <td>SATAN 2: Russia unvelis an image of its terrif...</td>\n",
       "      <td>The RS-28 Sarmat missile, dubbed Satan 2, will...</td>\n",
       "      <td>1</td>\n",
       "    </tr>\n",
       "  </tbody>\n",
       "</table>\n",
       "</div>"
      ],
      "text/plain": [
       "   Unnamed: 0                                              title  \\\n",
       "0           0  LAW ENFORCEMENT ON HIGH ALERT Following Threat...   \n",
       "1           1                                                NaN   \n",
       "2           2  UNBELIEVABLE! OBAMA’S ATTORNEY GENERAL SAYS MO...   \n",
       "3           3  Bobby Jindal, raised Hindu, uses story of Chri...   \n",
       "4           4  SATAN 2: Russia unvelis an image of its terrif...   \n",
       "\n",
       "                                                text  label  \n",
       "0  No comment is expected from Barack Obama Membe...      1  \n",
       "1     Did they post their votes for Hillary already?      1  \n",
       "2   Now, most of the demonstrators gathered last ...      1  \n",
       "3  A dozen politically active pastors came here f...      0  \n",
       "4  The RS-28 Sarmat missile, dubbed Satan 2, will...      1  "
      ]
     },
     "execution_count": 3,
     "metadata": {},
     "output_type": "execute_result"
    }
   ],
   "source": [
    "df_original.head()"
   ]
  },
  {
   "cell_type": "markdown",
   "id": "d11cfd62",
   "metadata": {},
   "source": [
    "<a id=\"section1B\"></a>\n",
    "## 1B: Dataset Cleaning"
   ]
  },
  {
   "cell_type": "markdown",
   "id": "49761d68",
   "metadata": {},
   "source": [
    "Before processing the actual contents of the text, we will perform a general clean up on the raw dataset.  This will include:\n",
    "\n",
    "1. Remove unnecessary columns\n",
    "2. Relabel column titles\n",
    "3. Remove duplicate rows\n",
    "4. Remove missing data from rows"
   ]
  },
  {
   "cell_type": "markdown",
   "id": "e3eabe36",
   "metadata": {},
   "source": [
    "First we will create a deep copy of the original dataframe before modifying the data: "
   ]
  },
  {
   "cell_type": "code",
   "execution_count": 4,
   "id": "7aa739be",
   "metadata": {},
   "outputs": [],
   "source": [
    "df_clean = df_original.copy()"
   ]
  },
  {
   "cell_type": "markdown",
   "id": "da947da1",
   "metadata": {},
   "source": [
    "### i) Remove unnecessary columns"
   ]
  },
  {
   "cell_type": "code",
   "execution_count": 5,
   "id": "ad8b7c93",
   "metadata": {},
   "outputs": [
    {
     "data": {
      "text/plain": [
       "72134"
      ]
     },
     "execution_count": 5,
     "metadata": {},
     "output_type": "execute_result"
    }
   ],
   "source": [
    "df_clean['Unnamed: 0'].nunique()"
   ]
  },
  {
   "cell_type": "markdown",
   "id": "e053e07d",
   "metadata": {},
   "source": [
    "Kaggle dataset shows this column as the 'serial number', and as the number of unique values is equivalent to the number of entries, we can confidently equate this to just the index number.  This redundant column will be dropped."
   ]
  },
  {
   "cell_type": "code",
   "execution_count": 6,
   "id": "18af9287",
   "metadata": {},
   "outputs": [],
   "source": [
    "df_clean = df_clean.drop(['Unnamed: 0'], axis=1)"
   ]
  },
  {
   "cell_type": "markdown",
   "id": "d120ad04",
   "metadata": {},
   "source": [
    "### ii) Rename columns"
   ]
  },
  {
   "cell_type": "markdown",
   "id": "94b7f6be",
   "metadata": {},
   "source": [
    "After reviewing the comments on the Kaggle dataset and performing cross checks, the 'label' column is a binary classifier that determines whether the article is either:\n",
    "1. Fake = 1\n",
    "2. Real = 0\n",
    "\n",
    "We will rename the label column and capitalize the other two column titles:"
   ]
  },
  {
   "cell_type": "code",
   "execution_count": 7,
   "id": "b39e4fe9",
   "metadata": {
    "scrolled": true
   },
   "outputs": [
    {
     "data": {
      "text/html": [
       "<div>\n",
       "<style scoped>\n",
       "    .dataframe tbody tr th:only-of-type {\n",
       "        vertical-align: middle;\n",
       "    }\n",
       "\n",
       "    .dataframe tbody tr th {\n",
       "        vertical-align: top;\n",
       "    }\n",
       "\n",
       "    .dataframe thead th {\n",
       "        text-align: right;\n",
       "    }\n",
       "</style>\n",
       "<table border=\"1\" class=\"dataframe\">\n",
       "  <thead>\n",
       "    <tr style=\"text-align: right;\">\n",
       "      <th></th>\n",
       "      <th>Title</th>\n",
       "      <th>Text</th>\n",
       "      <th>Fake</th>\n",
       "    </tr>\n",
       "  </thead>\n",
       "  <tbody>\n",
       "    <tr>\n",
       "      <th>0</th>\n",
       "      <td>LAW ENFORCEMENT ON HIGH ALERT Following Threat...</td>\n",
       "      <td>No comment is expected from Barack Obama Membe...</td>\n",
       "      <td>1</td>\n",
       "    </tr>\n",
       "    <tr>\n",
       "      <th>1</th>\n",
       "      <td>NaN</td>\n",
       "      <td>Did they post their votes for Hillary already?</td>\n",
       "      <td>1</td>\n",
       "    </tr>\n",
       "    <tr>\n",
       "      <th>2</th>\n",
       "      <td>UNBELIEVABLE! OBAMA’S ATTORNEY GENERAL SAYS MO...</td>\n",
       "      <td>Now, most of the demonstrators gathered last ...</td>\n",
       "      <td>1</td>\n",
       "    </tr>\n",
       "    <tr>\n",
       "      <th>3</th>\n",
       "      <td>Bobby Jindal, raised Hindu, uses story of Chri...</td>\n",
       "      <td>A dozen politically active pastors came here f...</td>\n",
       "      <td>0</td>\n",
       "    </tr>\n",
       "    <tr>\n",
       "      <th>4</th>\n",
       "      <td>SATAN 2: Russia unvelis an image of its terrif...</td>\n",
       "      <td>The RS-28 Sarmat missile, dubbed Satan 2, will...</td>\n",
       "      <td>1</td>\n",
       "    </tr>\n",
       "  </tbody>\n",
       "</table>\n",
       "</div>"
      ],
      "text/plain": [
       "                                               Title  \\\n",
       "0  LAW ENFORCEMENT ON HIGH ALERT Following Threat...   \n",
       "1                                                NaN   \n",
       "2  UNBELIEVABLE! OBAMA’S ATTORNEY GENERAL SAYS MO...   \n",
       "3  Bobby Jindal, raised Hindu, uses story of Chri...   \n",
       "4  SATAN 2: Russia unvelis an image of its terrif...   \n",
       "\n",
       "                                                Text  Fake  \n",
       "0  No comment is expected from Barack Obama Membe...     1  \n",
       "1     Did they post their votes for Hillary already?     1  \n",
       "2   Now, most of the demonstrators gathered last ...     1  \n",
       "3  A dozen politically active pastors came here f...     0  \n",
       "4  The RS-28 Sarmat missile, dubbed Satan 2, will...     1  "
      ]
     },
     "execution_count": 7,
     "metadata": {},
     "output_type": "execute_result"
    }
   ],
   "source": [
    "df_clean.columns = ['Title','Text','Fake']\n",
    "df_clean.head()"
   ]
  },
  {
   "cell_type": "markdown",
   "id": "3aaeb31a",
   "metadata": {},
   "source": [
    "### iii) Remove duplicates"
   ]
  },
  {
   "cell_type": "markdown",
   "id": "2094bbce",
   "metadata": {},
   "source": [
    "We don't want to train or test the model on duplicated information, as this will cause bias in the results weighted towards those duplicates. \n",
    "\n",
    "Instead of checking for duplicates of text AND title, we will check for duplicate titles and text separately, since there may be duplicate cases where the text or title is different, but the text or title is repeated in another entry. "
   ]
  },
  {
   "cell_type": "code",
   "execution_count": 8,
   "id": "29cbed7c",
   "metadata": {},
   "outputs": [
    {
     "name": "stdout",
     "output_type": "stream",
     "text": [
      "There are 9782 entries with duplicated titles\n"
     ]
    }
   ],
   "source": [
    "#Check how many duplicated titles there are\n",
    "duplicate_titles = df_clean.duplicated(subset = ['Title','Fake'])\n",
    "print('There are',duplicate_titles.sum(), 'entries with duplicated titles')"
   ]
  },
  {
   "cell_type": "code",
   "execution_count": 9,
   "id": "4b9ca722",
   "metadata": {},
   "outputs": [
    {
     "name": "stdout",
     "output_type": "stream",
     "text": [
      "There are 9414 entries with duplicated text\n"
     ]
    }
   ],
   "source": [
    "#Check how many duplicated bodies of text there are \n",
    "duplicate_text = df_clean.duplicated(subset = ['Text', 'Fake'])\n",
    "duplicate_text.sum()\n",
    "print('There are', duplicate_text.sum(), 'entries with duplicated text')"
   ]
  },
  {
   "cell_type": "code",
   "execution_count": 10,
   "id": "429446b8",
   "metadata": {
    "scrolled": true
   },
   "outputs": [
    {
     "name": "stdout",
     "output_type": "stream",
     "text": [
      "<class 'pandas.core.frame.DataFrame'>\n",
      "Index: 62352 entries, 0 to 72132\n",
      "Data columns (total 3 columns):\n",
      " #   Column  Non-Null Count  Dtype \n",
      "---  ------  --------------  ----- \n",
      " 0   Title   62351 non-null  object\n",
      " 1   Text    62313 non-null  object\n",
      " 2   Fake    62352 non-null  int64 \n",
      "dtypes: int64(1), object(2)\n",
      "memory usage: 1.9+ MB\n"
     ]
    }
   ],
   "source": [
    "#Remove duplicates\n",
    "df_clean = df_clean.drop_duplicates(subset = ['Title','Fake'])\n",
    "df_clean.info()"
   ]
  },
  {
   "cell_type": "code",
   "execution_count": 11,
   "id": "902bfd41",
   "metadata": {},
   "outputs": [
    {
     "name": "stdout",
     "output_type": "stream",
     "text": [
      "<class 'pandas.core.frame.DataFrame'>\n",
      "Index: 61400 entries, 0 to 72132\n",
      "Data columns (total 3 columns):\n",
      " #   Column  Non-Null Count  Dtype \n",
      "---  ------  --------------  ----- \n",
      " 0   Title   61399 non-null  object\n",
      " 1   Text    61399 non-null  object\n",
      " 2   Fake    61400 non-null  int64 \n",
      "dtypes: int64(1), object(2)\n",
      "memory usage: 1.9+ MB\n"
     ]
    }
   ],
   "source": [
    "#Remove duplicates\n",
    "df_clean = df_clean.drop_duplicates(subset = ['Text','Fake'])\n",
    "df_clean.info()"
   ]
  },
  {
   "cell_type": "code",
   "execution_count": 12,
   "id": "9691a78e",
   "metadata": {},
   "outputs": [
    {
     "name": "stdout",
     "output_type": "stream",
     "text": [
      "Removing duplicates dropped 10,734 values from our original dataset, or 15% of the original dataset.\n"
     ]
    }
   ],
   "source": [
    "print(f\"Removing duplicates dropped {len(df_original) - len(df_clean):,} values from our original dataset, or {(len(df_original) - len(df_clean)) / len(df_original) * 100:.0f}% of the original dataset.\")"
   ]
  },
  {
   "cell_type": "markdown",
   "id": "2078acad",
   "metadata": {},
   "source": [
    "### iv) Remove missing data"
   ]
  },
  {
   "cell_type": "markdown",
   "id": "39578282",
   "metadata": {},
   "source": [
    "We can see from the summary above that there is atleast 1 row of missing data in title and text. We will remove it below."
   ]
  },
  {
   "cell_type": "code",
   "execution_count": 13,
   "id": "eb2a6367",
   "metadata": {},
   "outputs": [],
   "source": [
    "df_clean.dropna(inplace = True)"
   ]
  },
  {
   "cell_type": "code",
   "execution_count": 14,
   "id": "acffbf3e",
   "metadata": {},
   "outputs": [
    {
     "name": "stdout",
     "output_type": "stream",
     "text": [
      "<class 'pandas.core.frame.DataFrame'>\n",
      "Index: 61398 entries, 0 to 72132\n",
      "Data columns (total 3 columns):\n",
      " #   Column  Non-Null Count  Dtype \n",
      "---  ------  --------------  ----- \n",
      " 0   Title   61398 non-null  object\n",
      " 1   Text    61398 non-null  object\n",
      " 2   Fake    61398 non-null  int64 \n",
      "dtypes: int64(1), object(2)\n",
      "memory usage: 1.9+ MB\n"
     ]
    }
   ],
   "source": [
    "df_clean.info()"
   ]
  },
  {
   "cell_type": "markdown",
   "id": "02d28ff2",
   "metadata": {},
   "source": [
    "Now we have a clean dataset to manipulate and perform text pre-processing on."
   ]
  },
  {
   "cell_type": "markdown",
   "id": "c73f2c4d",
   "metadata": {},
   "source": [
    "### v) Review cleaned data and remove outliers"
   ]
  },
  {
   "cell_type": "markdown",
   "id": "c3e55685",
   "metadata": {},
   "source": [
    "Before we do the text processing, we will take a broad look at the characteristics of the data to get more familiarized with it."
   ]
  },
  {
   "cell_type": "markdown",
   "id": "a823f4bb",
   "metadata": {},
   "source": [
    "In order to get more familiarized with the cleaned data and to check if we need to do any further data cleaning, we will check and visualize the distribution of:\n",
    "1. Classifications\n",
    "2. Word Counts\n",
    "3. Character Counts (includes letters, punctuation and spaces)\n",
    "4. Unique Words"
   ]
  },
  {
   "cell_type": "code",
   "execution_count": 15,
   "id": "fe6bb38d",
   "metadata": {},
   "outputs": [],
   "source": [
    "#Calculate word counts for the Text and Title columns separately\n",
    "df_clean['Text Word Count'] = df_clean['Text'].apply(lambda text: len(str(text).split()))\n",
    "df_clean['Title Word Count'] = df_clean['Title'].apply(lambda text: len(str(text).split()))\n",
    "\n",
    "#Calculate respective character counts (including spaces and punctuation)\n",
    "df_clean['Text Character Count'] = df_clean['Text'].apply(lambda text: len(str(text)))\n",
    "df_clean['Title Character Count'] = df_clean['Title'].apply(lambda text: len(str(text)))"
   ]
  },
  {
   "cell_type": "code",
   "execution_count": 16,
   "id": "f1624ce6",
   "metadata": {},
   "outputs": [
    {
     "data": {
      "text/html": [
       "<div>\n",
       "<style scoped>\n",
       "    .dataframe tbody tr th:only-of-type {\n",
       "        vertical-align: middle;\n",
       "    }\n",
       "\n",
       "    .dataframe tbody tr th {\n",
       "        vertical-align: top;\n",
       "    }\n",
       "\n",
       "    .dataframe thead th {\n",
       "        text-align: right;\n",
       "    }\n",
       "</style>\n",
       "<table border=\"1\" class=\"dataframe\">\n",
       "  <thead>\n",
       "    <tr style=\"text-align: right;\">\n",
       "      <th></th>\n",
       "      <th>Title</th>\n",
       "      <th>Text</th>\n",
       "      <th>Fake</th>\n",
       "      <th>Text Word Count</th>\n",
       "      <th>Title Word Count</th>\n",
       "      <th>Text Character Count</th>\n",
       "      <th>Title Character Count</th>\n",
       "    </tr>\n",
       "  </thead>\n",
       "  <tbody>\n",
       "    <tr>\n",
       "      <th>0</th>\n",
       "      <td>LAW ENFORCEMENT ON HIGH ALERT Following Threat...</td>\n",
       "      <td>No comment is expected from Barack Obama Membe...</td>\n",
       "      <td>1</td>\n",
       "      <td>871</td>\n",
       "      <td>18</td>\n",
       "      <td>5049</td>\n",
       "      <td>130</td>\n",
       "    </tr>\n",
       "    <tr>\n",
       "      <th>2</th>\n",
       "      <td>UNBELIEVABLE! OBAMA’S ATTORNEY GENERAL SAYS MO...</td>\n",
       "      <td>Now, most of the demonstrators gathered last ...</td>\n",
       "      <td>1</td>\n",
       "      <td>34</td>\n",
       "      <td>18</td>\n",
       "      <td>216</td>\n",
       "      <td>137</td>\n",
       "    </tr>\n",
       "    <tr>\n",
       "      <th>3</th>\n",
       "      <td>Bobby Jindal, raised Hindu, uses story of Chri...</td>\n",
       "      <td>A dozen politically active pastors came here f...</td>\n",
       "      <td>0</td>\n",
       "      <td>1321</td>\n",
       "      <td>16</td>\n",
       "      <td>8010</td>\n",
       "      <td>105</td>\n",
       "    </tr>\n",
       "    <tr>\n",
       "      <th>4</th>\n",
       "      <td>SATAN 2: Russia unvelis an image of its terrif...</td>\n",
       "      <td>The RS-28 Sarmat missile, dubbed Satan 2, will...</td>\n",
       "      <td>1</td>\n",
       "      <td>329</td>\n",
       "      <td>16</td>\n",
       "      <td>1916</td>\n",
       "      <td>95</td>\n",
       "    </tr>\n",
       "    <tr>\n",
       "      <th>5</th>\n",
       "      <td>About Time! Christian Group Sues Amazon and SP...</td>\n",
       "      <td>All we can say on this one is it s about time ...</td>\n",
       "      <td>1</td>\n",
       "      <td>244</td>\n",
       "      <td>13</td>\n",
       "      <td>1530</td>\n",
       "      <td>78</td>\n",
       "    </tr>\n",
       "  </tbody>\n",
       "</table>\n",
       "</div>"
      ],
      "text/plain": [
       "                                               Title  \\\n",
       "0  LAW ENFORCEMENT ON HIGH ALERT Following Threat...   \n",
       "2  UNBELIEVABLE! OBAMA’S ATTORNEY GENERAL SAYS MO...   \n",
       "3  Bobby Jindal, raised Hindu, uses story of Chri...   \n",
       "4  SATAN 2: Russia unvelis an image of its terrif...   \n",
       "5  About Time! Christian Group Sues Amazon and SP...   \n",
       "\n",
       "                                                Text  Fake  Text Word Count  \\\n",
       "0  No comment is expected from Barack Obama Membe...     1              871   \n",
       "2   Now, most of the demonstrators gathered last ...     1               34   \n",
       "3  A dozen politically active pastors came here f...     0             1321   \n",
       "4  The RS-28 Sarmat missile, dubbed Satan 2, will...     1              329   \n",
       "5  All we can say on this one is it s about time ...     1              244   \n",
       "\n",
       "   Title Word Count  Text Character Count  Title Character Count  \n",
       "0                18                  5049                    130  \n",
       "2                18                   216                    137  \n",
       "3                16                  8010                    105  \n",
       "4                16                  1916                     95  \n",
       "5                13                  1530                     78  "
      ]
     },
     "execution_count": 16,
     "metadata": {},
     "output_type": "execute_result"
    }
   ],
   "source": [
    "df_clean.head()"
   ]
  },
  {
   "cell_type": "code",
   "execution_count": 17,
   "id": "31a4bf4c",
   "metadata": {},
   "outputs": [
    {
     "data": {
      "image/png": "[encoded data removed]",
      "text/plain": [
       "<Figure size 400x400 with 1 Axes>"
      ]
     },
     "metadata": {},
     "output_type": "display_data"
    }
   ],
   "source": [
    "plt.figure(figsize=(4, 4))\n",
    "\n",
    "ax = sns.countplot(x='Fake', data=df_clean, palette='coolwarm')\n",
    "\n",
    "ax.set_title('Dataset Class Distribution', fontsize=12)\n",
    "ax.set_xlabel('Real or Fake News?', fontsize=10)\n",
    "ax.set_ylabel('Count', fontsize=10)\n",
    "ax.tick_params(axis='both', which='major', labelsize=10)\n",
    "\n",
    "ax.set_xticklabels(['0: Real', '1: Fake'])\n",
    "\n",
    "# Calculate the total number of entries\n",
    "total = len(df_clean)\n",
    "\n",
    "# Add % annotations\n",
    "for p in ax.patches:\n",
    "    height = p.get_height()\n",
    "    percentage = '{:.1f}%'.format(100 * height/total)\n",
    "    ax.text(p.get_x() + p.get_width() / 2., height + 3, percentage, ha='center', fontsize=10)\n",
    "    \n",
    "plt.show()"
   ]
  },
  {
   "cell_type": "markdown",
   "id": "ffb8c97e",
   "metadata": {},
   "source": [
    "From here we can see that we have a somewhat balanced dataset, with a slight bias towards real news (55% of samples) vs fake news (45% of samples).  As a result, we will need to consider more than just accuracy as an evaluation metric in order to asses model performance."
   ]
  },
  {
   "cell_type": "code",
   "execution_count": 18,
   "id": "913f8f86",
   "metadata": {},
   "outputs": [
    {
     "data": {
      "text/html": [
       "<div>\n",
       "<style scoped>\n",
       "    .dataframe tbody tr th:only-of-type {\n",
       "        vertical-align: middle;\n",
       "    }\n",
       "\n",
       "    .dataframe tbody tr th {\n",
       "        vertical-align: top;\n",
       "    }\n",
       "\n",
       "    .dataframe thead th {\n",
       "        text-align: right;\n",
       "    }\n",
       "</style>\n",
       "<table border=\"1\" class=\"dataframe\">\n",
       "  <thead>\n",
       "    <tr style=\"text-align: right;\">\n",
       "      <th></th>\n",
       "      <th>Text Word Count</th>\n",
       "      <th>Title Word Count</th>\n",
       "      <th>Text Character Count</th>\n",
       "      <th>Title Character Count</th>\n",
       "    </tr>\n",
       "  </thead>\n",
       "  <tbody>\n",
       "    <tr>\n",
       "      <th>count</th>\n",
       "      <td>61,398</td>\n",
       "      <td>61,398</td>\n",
       "      <td>61,398</td>\n",
       "      <td>61,398</td>\n",
       "    </tr>\n",
       "    <tr>\n",
       "      <th>mean</th>\n",
       "      <td>552</td>\n",
       "      <td>12</td>\n",
       "      <td>3,334</td>\n",
       "      <td>75</td>\n",
       "    </tr>\n",
       "    <tr>\n",
       "      <th>std</th>\n",
       "      <td>611</td>\n",
       "      <td>4</td>\n",
       "      <td>3,637</td>\n",
       "      <td>23</td>\n",
       "    </tr>\n",
       "    <tr>\n",
       "      <th>min</th>\n",
       "      <td>0</td>\n",
       "      <td>1</td>\n",
       "      <td>1</td>\n",
       "      <td>1</td>\n",
       "    </tr>\n",
       "    <tr>\n",
       "      <th>1%</th>\n",
       "      <td>22</td>\n",
       "      <td>5</td>\n",
       "      <td>137</td>\n",
       "      <td>30</td>\n",
       "    </tr>\n",
       "    <tr>\n",
       "      <th>25%</th>\n",
       "      <td>249</td>\n",
       "      <td>9</td>\n",
       "      <td>1,512</td>\n",
       "      <td>61</td>\n",
       "    </tr>\n",
       "    <tr>\n",
       "      <th>50%</th>\n",
       "      <td>407</td>\n",
       "      <td>11</td>\n",
       "      <td>2,490</td>\n",
       "      <td>72</td>\n",
       "    </tr>\n",
       "    <tr>\n",
       "      <th>75%</th>\n",
       "      <td>680</td>\n",
       "      <td>14</td>\n",
       "      <td>4,132</td>\n",
       "      <td>87</td>\n",
       "    </tr>\n",
       "    <tr>\n",
       "      <th>90%</th>\n",
       "      <td>1,107</td>\n",
       "      <td>17</td>\n",
       "      <td>6,674</td>\n",
       "      <td>100</td>\n",
       "    </tr>\n",
       "    <tr>\n",
       "      <th>max</th>\n",
       "      <td>24,234</td>\n",
       "      <td>72</td>\n",
       "      <td>142,961</td>\n",
       "      <td>456</td>\n",
       "    </tr>\n",
       "  </tbody>\n",
       "</table>\n",
       "</div>"
      ],
      "text/plain": [
       "      Text Word Count Title Word Count Text Character Count  \\\n",
       "count          61,398           61,398               61,398   \n",
       "mean              552               12                3,334   \n",
       "std               611                4                3,637   \n",
       "min                 0                1                    1   \n",
       "1%                 22                5                  137   \n",
       "25%               249                9                1,512   \n",
       "50%               407               11                2,490   \n",
       "75%               680               14                4,132   \n",
       "90%             1,107               17                6,674   \n",
       "max            24,234               72              142,961   \n",
       "\n",
       "      Title Character Count  \n",
       "count                61,398  \n",
       "mean                     75  \n",
       "std                      23  \n",
       "min                       1  \n",
       "1%                       30  \n",
       "25%                      61  \n",
       "50%                      72  \n",
       "75%                      87  \n",
       "90%                     100  \n",
       "max                     456  "
      ]
     },
     "execution_count": 18,
     "metadata": {},
     "output_type": "execute_result"
    }
   ],
   "source": [
    "df_clean[['Text Word Count',\n",
    " 'Title Word Count',\n",
    " 'Text Character Count',\n",
    " 'Title Character Count']].describe(percentiles=[0.01, 0.25, 0.75, 0.9]).applymap(lambda x: \"{:,.0f}\".format(x))"
   ]
  },
  {
   "cell_type": "markdown",
   "id": "1eaca8cc",
   "metadata": {},
   "source": [
    "From this summary we can see that:\n",
    "1. Titles on average are 12 words long, and 75 characters\n",
    "2. Bodies of text are an average of 552 words long and 3,300 characters\n",
    "\n",
    "There are some obvious outliers but overall the  in each, including some text that is 0 characters and some 1 word titles. \n",
    "\n",
    "To capture a wider range of nonsensical outliers, we will remove any samples that are smaller than the first percentile (<20 words for the article text, and <5 words for title)."
   ]
  },
  {
   "cell_type": "code",
   "execution_count": 19,
   "id": "a0762fcd",
   "metadata": {},
   "outputs": [],
   "source": [
    "#Calculate original number of entries\n",
    "len_original = len(df_clean)\n",
    "\n",
    "#Create boolean filter to filter for the opposite of our outlier conditions\n",
    "filter = (df_clean['Text Word Count'] >= 20) & (df_clean['Title Word Count'] >= 5)\n",
    "\n",
    "#Remove filtered data\n",
    "df_clean = df_clean[filter]\n",
    "\n",
    "#Calculate new length\n",
    "len_new = len(df_clean)\n",
    "\n",
    "#Change in length\n",
    "len_change = len_new - len_original\n",
    "len_change_percent = len_change / len_original *100"
   ]
  },
  {
   "cell_type": "code",
   "execution_count": 20,
   "id": "6b79e2a5",
   "metadata": {},
   "outputs": [
    {
     "data": {
      "text/html": [
       "<div>\n",
       "<style scoped>\n",
       "    .dataframe tbody tr th:only-of-type {\n",
       "        vertical-align: middle;\n",
       "    }\n",
       "\n",
       "    .dataframe tbody tr th {\n",
       "        vertical-align: top;\n",
       "    }\n",
       "\n",
       "    .dataframe thead th {\n",
       "        text-align: right;\n",
       "    }\n",
       "</style>\n",
       "<table border=\"1\" class=\"dataframe\">\n",
       "  <thead>\n",
       "    <tr style=\"text-align: right;\">\n",
       "      <th></th>\n",
       "      <th>Text Word Count</th>\n",
       "      <th>Title Word Count</th>\n",
       "      <th>Text Character Count</th>\n",
       "      <th>Title Character Count</th>\n",
       "    </tr>\n",
       "  </thead>\n",
       "  <tbody>\n",
       "    <tr>\n",
       "      <th>count</th>\n",
       "      <td>60,410</td>\n",
       "      <td>60,410</td>\n",
       "      <td>60,410</td>\n",
       "      <td>60,410</td>\n",
       "    </tr>\n",
       "    <tr>\n",
       "      <th>mean</th>\n",
       "      <td>554</td>\n",
       "      <td>12</td>\n",
       "      <td>3,346</td>\n",
       "      <td>76</td>\n",
       "    </tr>\n",
       "    <tr>\n",
       "      <th>std</th>\n",
       "      <td>608</td>\n",
       "      <td>4</td>\n",
       "      <td>3,614</td>\n",
       "      <td>22</td>\n",
       "    </tr>\n",
       "    <tr>\n",
       "      <th>min</th>\n",
       "      <td>20</td>\n",
       "      <td>5</td>\n",
       "      <td>95</td>\n",
       "      <td>19</td>\n",
       "    </tr>\n",
       "    <tr>\n",
       "      <th>1%</th>\n",
       "      <td>33</td>\n",
       "      <td>6</td>\n",
       "      <td>200</td>\n",
       "      <td>35</td>\n",
       "    </tr>\n",
       "    <tr>\n",
       "      <th>25%</th>\n",
       "      <td>255</td>\n",
       "      <td>9</td>\n",
       "      <td>1,549</td>\n",
       "      <td>62</td>\n",
       "    </tr>\n",
       "    <tr>\n",
       "      <th>50%</th>\n",
       "      <td>409</td>\n",
       "      <td>11</td>\n",
       "      <td>2,502</td>\n",
       "      <td>72</td>\n",
       "    </tr>\n",
       "    <tr>\n",
       "      <th>75%</th>\n",
       "      <td>681</td>\n",
       "      <td>14</td>\n",
       "      <td>4,135</td>\n",
       "      <td>87</td>\n",
       "    </tr>\n",
       "    <tr>\n",
       "      <th>90%</th>\n",
       "      <td>1,105</td>\n",
       "      <td>17</td>\n",
       "      <td>6,658</td>\n",
       "      <td>100</td>\n",
       "    </tr>\n",
       "    <tr>\n",
       "      <th>max</th>\n",
       "      <td>24,234</td>\n",
       "      <td>58</td>\n",
       "      <td>142,961</td>\n",
       "      <td>396</td>\n",
       "    </tr>\n",
       "  </tbody>\n",
       "</table>\n",
       "</div>"
      ],
      "text/plain": [
       "      Text Word Count Title Word Count Text Character Count  \\\n",
       "count          60,410           60,410               60,410   \n",
       "mean              554               12                3,346   \n",
       "std               608                4                3,614   \n",
       "min                20                5                   95   \n",
       "1%                 33                6                  200   \n",
       "25%               255                9                1,549   \n",
       "50%               409               11                2,502   \n",
       "75%               681               14                4,135   \n",
       "90%             1,105               17                6,658   \n",
       "max            24,234               58              142,961   \n",
       "\n",
       "      Title Character Count  \n",
       "count                60,410  \n",
       "mean                     76  \n",
       "std                      22  \n",
       "min                      19  \n",
       "1%                       35  \n",
       "25%                      62  \n",
       "50%                      72  \n",
       "75%                      87  \n",
       "90%                     100  \n",
       "max                     396  "
      ]
     },
     "execution_count": 20,
     "metadata": {},
     "output_type": "execute_result"
    }
   ],
   "source": [
    "#Re-review sample to confirm outliers have been removed\n",
    "df_clean[['Text Word Count',\n",
    " 'Title Word Count',\n",
    " 'Text Character Count',\n",
    " 'Title Character Count']].describe(percentiles=[0.01, 0.25, 0.75, 0.9]).applymap(lambda x: \"{:,.0f}\".format(x))"
   ]
  },
  {
   "cell_type": "code",
   "execution_count": 21,
   "id": "3e40557e",
   "metadata": {},
   "outputs": [
    {
     "name": "stdout",
     "output_type": "stream",
     "text": [
      "Removing outliers dropped 988 values from our original dataset, or 2% of the original dataset.\n"
     ]
    }
   ],
   "source": [
    "print(f\"Removing outliers dropped {-len_change:,} values from our original dataset, or {-len_change_percent:.0f}% of the original dataset.\")"
   ]
  },
  {
   "cell_type": "markdown",
   "id": "7ce0820c",
   "metadata": {},
   "source": [
    "Below, we visualize the remain data to better see how the character and text count is distributed."
   ]
  },
  {
   "cell_type": "code",
   "execution_count": 22,
   "id": "372b5a2c",
   "metadata": {},
   "outputs": [
    {
     "data": {
      "image/png": "[encoded data removed]",
      "text/plain": [
       "<Figure size 1200x1200 with 4 Axes>"
      ]
     },
     "metadata": {},
     "output_type": "display_data"
    }
   ],
   "source": [
    "fig, axs = plt.subplots(2, 2, figsize=(12, 12), gridspec_kw={'height_ratios': [1, 1.1]})\n",
    "fig.suptitle('Text and Title Character and Word Count Histograms', fontsize=16)\n",
    "\n",
    "title_color = \"skyblue\"\n",
    "text_color = \"salmon\"\n",
    "title_size = 14\n",
    "\n",
    "# Plot 1: Title Character Count\n",
    "sns.histplot(df_clean['Title Character Count'], bins=100, ax=axs[0, 0], color=title_color)\n",
    "axs[0, 0].set_title('Title Character Count', fontsize=title_size)\n",
    "axs[0, 0].set_xlim(0, 200)\n",
    "axs[0, 0].set_xlabel('# of Characters', fontsize=10)\n",
    "\n",
    "# Plot 2: Text Character Count\n",
    "sns.histplot(df_clean['Text Character Count'], bins=1000, ax=axs[0, 1], color=text_color)\n",
    "axs[0, 1].set_title('Text Character Count', fontsize=title_size)\n",
    "axs[0, 1].set_xlim(0, 15000)\n",
    "axs[0, 1].set_xlabel('# of Characters', fontsize=10)\n",
    "\n",
    "# Plot 3: Title Word Count\n",
    "sns.histplot(df_clean['Title Word Count'], bins=30, ax=axs[1, 0], color=title_color)\n",
    "axs[1, 0].set_title('Title Word Count', fontsize=title_size)\n",
    "axs[1, 0].set_xlim(0, 75)\n",
    "axs[1, 0].set_xlabel('# of Words', fontsize=10)\n",
    "\n",
    "# Plot 4: Text Word Count\n",
    "sns.histplot(df_clean['Text Word Count'], bins=1000, ax=axs[1, 1], color=text_color)\n",
    "axs[1, 1].set_title('Text Word Count', fontsize=title_size)\n",
    "axs[1, 1].set_xlim(0, 3000)\n",
    "axs[1, 1].set_xlabel('# of Words', fontsize=10)\n",
    "\n",
    "# Show the plot\n",
    "plt.show()\n"
   ]
  },
  {
   "cell_type": "markdown",
   "id": "8efec8b6",
   "metadata": {},
   "source": [
    "From the description summary above and the following histograms, we can see that:\n",
    "1. The text count is skewed to the to the left and has two peaks at around 250 words and 100 words per article\n",
    "2. The title count is fairly normally distributed if we remove the upper outlies around 75 words per title.\n",
    "\n",
    "This is interesting to see and might indicate that we will need to standardize or pad out the vectorized columns, depending on how many more words are removed, however for the moment we will not transform the distributions as we want to try and capture as many different types of articles as possible.  If the model is performing very poorly, we might consider this, but for now we will keep the data as is."
   ]
  },
  {
   "cell_type": "markdown",
   "id": "bdd039a3",
   "metadata": {},
   "source": [
    "<a id=\"section1C\"></a>\n",
    "## 1C: Shrink Dataset"
   ]
  },
  {
   "cell_type": "markdown",
   "id": "bc2ccf06",
   "metadata": {},
   "source": [
    "Due to the heavy computational resources required to process text data, I will shrink the dataset to a size that will be faster to process."
   ]
  },
  {
   "cell_type": "code",
   "execution_count": 23,
   "id": "6007394f",
   "metadata": {},
   "outputs": [],
   "source": [
    "#First create a copy of the dataframe\n",
    "df_clean_copy = df_clean.copy()"
   ]
  },
  {
   "cell_type": "code",
   "execution_count": 24,
   "id": "0d295ded",
   "metadata": {},
   "outputs": [],
   "source": [
    "sample_size = 1000"
   ]
  },
  {
   "cell_type": "code",
   "execution_count": 25,
   "id": "7c501249",
   "metadata": {},
   "outputs": [],
   "source": [
    "df = df_clean_copy.sample(sample_size, random_state = 42).reset_index(drop=True)"
   ]
  },
  {
   "cell_type": "markdown",
   "id": "16bf61fb",
   "metadata": {},
   "source": [
    "Perform a quick check to see how the data is distributed in this smaller sample:"
   ]
  },
  {
   "cell_type": "code",
   "execution_count": 26,
   "id": "efd160c6",
   "metadata": {},
   "outputs": [
    {
     "name": "stdout",
     "output_type": "stream",
     "text": [
      "<class 'pandas.core.frame.DataFrame'>\n",
      "RangeIndex: 1000 entries, 0 to 999\n",
      "Data columns (total 7 columns):\n",
      " #   Column                 Non-Null Count  Dtype \n",
      "---  ------                 --------------  ----- \n",
      " 0   Title                  1000 non-null   object\n",
      " 1   Text                   1000 non-null   object\n",
      " 2   Fake                   1000 non-null   int64 \n",
      " 3   Text Word Count        1000 non-null   int64 \n",
      " 4   Title Word Count       1000 non-null   int64 \n",
      " 5   Text Character Count   1000 non-null   int64 \n",
      " 6   Title Character Count  1000 non-null   int64 \n",
      "dtypes: int64(5), object(2)\n",
      "memory usage: 54.8+ KB\n"
     ]
    }
   ],
   "source": [
    "df.info()"
   ]
  },
  {
   "cell_type": "code",
   "execution_count": 27,
   "id": "f125684c",
   "metadata": {},
   "outputs": [
    {
     "data": {
      "text/html": [
       "<div>\n",
       "<style scoped>\n",
       "    .dataframe tbody tr th:only-of-type {\n",
       "        vertical-align: middle;\n",
       "    }\n",
       "\n",
       "    .dataframe tbody tr th {\n",
       "        vertical-align: top;\n",
       "    }\n",
       "\n",
       "    .dataframe thead th {\n",
       "        text-align: right;\n",
       "    }\n",
       "</style>\n",
       "<table border=\"1\" class=\"dataframe\">\n",
       "  <thead>\n",
       "    <tr style=\"text-align: right;\">\n",
       "      <th></th>\n",
       "      <th>Text Word Count</th>\n",
       "      <th>Title Word Count</th>\n",
       "      <th>Text Character Count</th>\n",
       "      <th>Title Character Count</th>\n",
       "    </tr>\n",
       "  </thead>\n",
       "  <tbody>\n",
       "    <tr>\n",
       "      <th>count</th>\n",
       "      <td>1,000</td>\n",
       "      <td>1,000</td>\n",
       "      <td>1,000</td>\n",
       "      <td>1,000</td>\n",
       "    </tr>\n",
       "    <tr>\n",
       "      <th>mean</th>\n",
       "      <td>539</td>\n",
       "      <td>12</td>\n",
       "      <td>3,258</td>\n",
       "      <td>76</td>\n",
       "    </tr>\n",
       "    <tr>\n",
       "      <th>std</th>\n",
       "      <td>538</td>\n",
       "      <td>4</td>\n",
       "      <td>3,221</td>\n",
       "      <td>23</td>\n",
       "    </tr>\n",
       "    <tr>\n",
       "      <th>min</th>\n",
       "      <td>20</td>\n",
       "      <td>5</td>\n",
       "      <td>117</td>\n",
       "      <td>29</td>\n",
       "    </tr>\n",
       "    <tr>\n",
       "      <th>1%</th>\n",
       "      <td>42</td>\n",
       "      <td>6</td>\n",
       "      <td>253</td>\n",
       "      <td>37</td>\n",
       "    </tr>\n",
       "    <tr>\n",
       "      <th>25%</th>\n",
       "      <td>254</td>\n",
       "      <td>9</td>\n",
       "      <td>1,547</td>\n",
       "      <td>62</td>\n",
       "    </tr>\n",
       "    <tr>\n",
       "      <th>50%</th>\n",
       "      <td>395</td>\n",
       "      <td>12</td>\n",
       "      <td>2,402</td>\n",
       "      <td>72</td>\n",
       "    </tr>\n",
       "    <tr>\n",
       "      <th>75%</th>\n",
       "      <td>679</td>\n",
       "      <td>14</td>\n",
       "      <td>4,102</td>\n",
       "      <td>88</td>\n",
       "    </tr>\n",
       "    <tr>\n",
       "      <th>90%</th>\n",
       "      <td>1,073</td>\n",
       "      <td>17</td>\n",
       "      <td>6,530</td>\n",
       "      <td>100</td>\n",
       "    </tr>\n",
       "    <tr>\n",
       "      <th>max</th>\n",
       "      <td>6,628</td>\n",
       "      <td>38</td>\n",
       "      <td>39,735</td>\n",
       "      <td>255</td>\n",
       "    </tr>\n",
       "  </tbody>\n",
       "</table>\n",
       "</div>"
      ],
      "text/plain": [
       "      Text Word Count Title Word Count Text Character Count  \\\n",
       "count           1,000            1,000                1,000   \n",
       "mean              539               12                3,258   \n",
       "std               538                4                3,221   \n",
       "min                20                5                  117   \n",
       "1%                 42                6                  253   \n",
       "25%               254                9                1,547   \n",
       "50%               395               12                2,402   \n",
       "75%               679               14                4,102   \n",
       "90%             1,073               17                6,530   \n",
       "max             6,628               38               39,735   \n",
       "\n",
       "      Title Character Count  \n",
       "count                 1,000  \n",
       "mean                     76  \n",
       "std                      23  \n",
       "min                      29  \n",
       "1%                       37  \n",
       "25%                      62  \n",
       "50%                      72  \n",
       "75%                      88  \n",
       "90%                     100  \n",
       "max                     255  "
      ]
     },
     "execution_count": 27,
     "metadata": {},
     "output_type": "execute_result"
    }
   ],
   "source": [
    "#Re-review sample to confirm outliers have been removed\n",
    "df[['Text Word Count',\n",
    " 'Title Word Count',\n",
    " 'Text Character Count',\n",
    " 'Title Character Count']].describe(percentiles=[0.01, 0.25, 0.75, 0.9]).applymap(lambda x: \"{:,.0f}\".format(x))"
   ]
  },
  {
   "cell_type": "code",
   "execution_count": 28,
   "id": "0e14b8b8",
   "metadata": {},
   "outputs": [
    {
     "data": {
      "image/png": "[encoded data removed]",
      "text/plain": [
       "<Figure size 400x400 with 1 Axes>"
      ]
     },
     "metadata": {},
     "output_type": "display_data"
    }
   ],
   "source": [
    "plt.figure(figsize=(4, 4))\n",
    "\n",
    "ax = sns.countplot(x='Fake', data=df, palette='coolwarm')\n",
    "\n",
    "ax.set_title('Shrunk Dataset Class Distribution', fontsize=12)\n",
    "ax.set_xlabel('Real or Fake News?', fontsize=10)\n",
    "ax.set_ylabel('Count', fontsize=10)\n",
    "ax.tick_params(axis='both', which='major', labelsize=10)\n",
    "\n",
    "ax.set_xticklabels(['0: Real', '1: Fake'])\n",
    "\n",
    "# Calculate the total number of entries\n",
    "total = len(df)\n",
    "\n",
    "# Add % annotations\n",
    "for p in ax.patches:\n",
    "    height = p.get_height()\n",
    "    percentage = '{:.1f}%'.format(100 * height/total)\n",
    "    ax.text(p.get_x() + p.get_width() / 2., height + 3, percentage, ha='center', fontsize=10)\n",
    "    \n",
    "plt.show()"
   ]
  },
  {
   "cell_type": "markdown",
   "id": "6ff7ec74",
   "metadata": {},
   "source": [
    "The distribution of our reduced sample size is similar to the original dataset (56/44% split), with slightly more skew towards Real news."
   ]
  },
  {
   "cell_type": "markdown",
   "id": "3c40058e",
   "metadata": {},
   "source": [
    "<a id=\"section1D\"></a>\n",
    "## 1D: Text Preprocessing"
   ]
  },
  {
   "cell_type": "markdown",
   "id": "dba9be2a",
   "metadata": {},
   "source": [
    "Before any further processing, we will remove the word and character count summaries from our dataframe:"
   ]
  },
  {
   "cell_type": "code",
   "execution_count": 29,
   "id": "d2ae8038",
   "metadata": {
    "scrolled": true
   },
   "outputs": [],
   "source": [
    "df.drop(['Text Word Count',\n",
    " 'Title Word Count',\n",
    " 'Text Character Count',\n",
    " 'Title Character Count'], axis = 1, inplace=True)"
   ]
  },
  {
   "cell_type": "markdown",
   "id": "b55ec437",
   "metadata": {},
   "source": [
    "In order to review and process the model using machine learning methods from python, the text data needs to be converted to numerical data.\n",
    "\n",
    "This requires the following steps:\n",
    "1. Tokenize the text\n",
    "2. Remove common stop words\n",
    "3. Remove punctuation\n",
    "4. Lemmatize words\n",
    "- We are choosing lemmatize over stemming due to the nature of wanting to keep as much linguistic context of the text in the model as possible.  We want to be able to identify true or false news.  False news could have the same general content as true news, but subtle differences in word usage, which we hope to capture via lemmatization.\n",
    "\n",
    "Note that in future iterations of the model, if we need to improve performance it might be worth replacing stop words and punctuation, as these could prove to be important in distinguishing between fake and real publications.  This would be similar to choosing lemmatization over stemming, however for now we will keep them removed to help speed up processing, and assess model performance before adding them back in."
   ]
  },
  {
   "cell_type": "code",
   "execution_count": 30,
   "id": "6f6d3d79",
   "metadata": {},
   "outputs": [],
   "source": [
    "def tokenize(text):\n",
    "    # Tokenize only if the input is a string\n",
    "    return word_tokenize(text) if isinstance(text, str) else []\n",
    "\n",
    "def clean_tokens(tokens, stop_words, punc):\n",
    "    # Combine the processing steps into a single function\n",
    "    tokens = [word.lower() for word in tokens if word.lower() not in stop_words and word not in punc]\n",
    "    return tokens\n",
    "\n",
    "# Initializing stop words, stemmer, lemmatizer, and punctuation list\n",
    "stop_words = set(stopwords.words('english'))\n",
    "lemma = WordNetLemmatizer()\n",
    "extended_punc = list(string.punctuation) + ['“', '”', '’', '‘', '—', '``', \"''\",'–']\n",
    "\n",
    "# Function to apply all text processing steps\n",
    "def process_text_column(column):\n",
    "    cleaned_tokens = column.apply(lambda x: clean_tokens(tokenize(x), stop_words, extended_punc))\n",
    "    lemmatized = cleaned_tokens.apply(lambda tokens: [lemma.lemmatize(word) for word in tokens])\n",
    "    return cleaned_tokens, lemmatized\n",
    "\n",
    "# Apply text processing to both Title and Text columns\n",
    "df['Cleaned Tokens Title'], df['Lemmatized Title'] = process_text_column(df['Title'])\n",
    "df['Cleaned Tokens Text'], df['Lemmatized Text'] = process_text_column(df['Text'])"
   ]
  },
  {
   "cell_type": "code",
   "execution_count": 31,
   "id": "09596d05",
   "metadata": {},
   "outputs": [
    {
     "data": {
      "text/html": [
       "<div>\n",
       "<style scoped>\n",
       "    .dataframe tbody tr th:only-of-type {\n",
       "        vertical-align: middle;\n",
       "    }\n",
       "\n",
       "    .dataframe tbody tr th {\n",
       "        vertical-align: top;\n",
       "    }\n",
       "\n",
       "    .dataframe thead th {\n",
       "        text-align: right;\n",
       "    }\n",
       "</style>\n",
       "<table border=\"1\" class=\"dataframe\">\n",
       "  <thead>\n",
       "    <tr style=\"text-align: right;\">\n",
       "      <th></th>\n",
       "      <th>Title</th>\n",
       "      <th>Text</th>\n",
       "      <th>Fake</th>\n",
       "      <th>Cleaned Tokens Title</th>\n",
       "      <th>Lemmatized Title</th>\n",
       "      <th>Cleaned Tokens Text</th>\n",
       "      <th>Lemmatized Text</th>\n",
       "    </tr>\n",
       "  </thead>\n",
       "  <tbody>\n",
       "    <tr>\n",
       "      <th>0</th>\n",
       "      <td>Lawyers Mobilize at Nation’s Airports After Tr...</td>\n",
       "      <td>Even before President Trump issued an order on...</td>\n",
       "      <td>0</td>\n",
       "      <td>[lawyers, mobilize, nation, airports, trump, o...</td>\n",
       "      <td>[lawyer, mobilize, nation, airport, trump, ord...</td>\n",
       "      <td>[even, president, trump, issued, order, friday...</td>\n",
       "      <td>[even, president, trump, issued, order, friday...</td>\n",
       "    </tr>\n",
       "    <tr>\n",
       "      <th>1</th>\n",
       "      <td>U.S. education secretary calls Obama transgend...</td>\n",
       "      <td>WASHINGTON (Reuters) - U.S. Education Secretar...</td>\n",
       "      <td>0</td>\n",
       "      <td>[u.s., education, secretary, calls, obama, tra...</td>\n",
       "      <td>[u.s., education, secretary, call, obama, tran...</td>\n",
       "      <td>[washington, reuters, u.s., education, secreta...</td>\n",
       "      <td>[washington, reuters, u.s., education, secreta...</td>\n",
       "    </tr>\n",
       "    <tr>\n",
       "      <th>2</th>\n",
       "      <td>Millions to lose health insurance under Republ...</td>\n",
       "      <td>WASHINGTON (Reuters) - Millions of Americans w...</td>\n",
       "      <td>0</td>\n",
       "      <td>[millions, lose, health, insurance, republican...</td>\n",
       "      <td>[million, lose, health, insurance, republican,...</td>\n",
       "      <td>[washington, reuters, millions, americans, wou...</td>\n",
       "      <td>[washington, reuters, million, american, would...</td>\n",
       "    </tr>\n",
       "    <tr>\n",
       "      <th>3</th>\n",
       "      <td>Trump RNC manager: 'Winning isn't enough'</td>\n",
       "      <td>\"This is an example of Donald Trump managing, ...</td>\n",
       "      <td>0</td>\n",
       "      <td>[trump, rnc, manager, 'winning, n't, enough]</td>\n",
       "      <td>[trump, rnc, manager, 'winning, n't, enough]</td>\n",
       "      <td>[example, donald, trump, managing, type, leade...</td>\n",
       "      <td>[example, donald, trump, managing, type, leade...</td>\n",
       "    </tr>\n",
       "    <tr>\n",
       "      <th>4</th>\n",
       "      <td>Obama says protectionism no answer to inequali...</td>\n",
       "      <td>(Reuters) - America must work with all nations...</td>\n",
       "      <td>0</td>\n",
       "      <td>[obama, says, protectionism, answer, inequalit...</td>\n",
       "      <td>[obama, say, protectionism, answer, inequality...</td>\n",
       "      <td>[reuters, america, must, work, nations, build,...</td>\n",
       "      <td>[reuters, america, must, work, nation, build, ...</td>\n",
       "    </tr>\n",
       "  </tbody>\n",
       "</table>\n",
       "</div>"
      ],
      "text/plain": [
       "                                               Title  \\\n",
       "0  Lawyers Mobilize at Nation’s Airports After Tr...   \n",
       "1  U.S. education secretary calls Obama transgend...   \n",
       "2  Millions to lose health insurance under Republ...   \n",
       "3          Trump RNC manager: 'Winning isn't enough'   \n",
       "4  Obama says protectionism no answer to inequali...   \n",
       "\n",
       "                                                Text  Fake  \\\n",
       "0  Even before President Trump issued an order on...     0   \n",
       "1  WASHINGTON (Reuters) - U.S. Education Secretar...     0   \n",
       "2  WASHINGTON (Reuters) - Millions of Americans w...     0   \n",
       "3  \"This is an example of Donald Trump managing, ...     0   \n",
       "4  (Reuters) - America must work with all nations...     0   \n",
       "\n",
       "                                Cleaned Tokens Title  \\\n",
       "0  [lawyers, mobilize, nation, airports, trump, o...   \n",
       "1  [u.s., education, secretary, calls, obama, tra...   \n",
       "2  [millions, lose, health, insurance, republican...   \n",
       "3       [trump, rnc, manager, 'winning, n't, enough]   \n",
       "4  [obama, says, protectionism, answer, inequalit...   \n",
       "\n",
       "                                    Lemmatized Title  \\\n",
       "0  [lawyer, mobilize, nation, airport, trump, ord...   \n",
       "1  [u.s., education, secretary, call, obama, tran...   \n",
       "2  [million, lose, health, insurance, republican,...   \n",
       "3       [trump, rnc, manager, 'winning, n't, enough]   \n",
       "4  [obama, say, protectionism, answer, inequality...   \n",
       "\n",
       "                                 Cleaned Tokens Text  \\\n",
       "0  [even, president, trump, issued, order, friday...   \n",
       "1  [washington, reuters, u.s., education, secreta...   \n",
       "2  [washington, reuters, millions, americans, wou...   \n",
       "3  [example, donald, trump, managing, type, leade...   \n",
       "4  [reuters, america, must, work, nations, build,...   \n",
       "\n",
       "                                     Lemmatized Text  \n",
       "0  [even, president, trump, issued, order, friday...  \n",
       "1  [washington, reuters, u.s., education, secreta...  \n",
       "2  [washington, reuters, million, american, would...  \n",
       "3  [example, donald, trump, managing, type, leade...  \n",
       "4  [reuters, america, must, work, nation, build, ...  "
      ]
     },
     "execution_count": 31,
     "metadata": {},
     "output_type": "execute_result"
    }
   ],
   "source": [
    "df.head()"
   ]
  },
  {
   "cell_type": "markdown",
   "id": "8e4d007f",
   "metadata": {},
   "source": [
    "#### Visualise top words in each category"
   ]
  },
  {
   "cell_type": "code",
   "execution_count": 32,
   "id": "1b9acec7",
   "metadata": {},
   "outputs": [
    {
     "data": {
      "image/png": "[encoded data removed]",
      "text/plain": [
       "<Figure size 1500x1200 with 4 Axes>"
      ]
     },
     "metadata": {},
     "output_type": "display_data"
    }
   ],
   "source": [
    "def plot_top_words(df, column, title, ax):\n",
    "    # Sum all words in the column\n",
    "    words = df[column].sum()\n",
    "    total_words = len(words)\n",
    "    word_counts = Counter(words)\n",
    "\n",
    "    # Calculate the percentage of each word relative to the total word count\n",
    "    top_words = {word: (count / total_words) * 100 for word, count in word_counts.most_common(10)}\n",
    "\n",
    "    # Convert to DataFrame for plotting\n",
    "    top_words_df = pd.DataFrame(list(top_words.items()), columns=['Word', '% of Words'])\n",
    "\n",
    "    # Plot\n",
    "    sns.barplot(y='Word', x='% of Words', data=top_words_df, ax=ax)\n",
    "    ax.set_title(title)\n",
    "\n",
    "# Create a 2x2 grid of subplots\n",
    "fig, axs = plt.subplots(2, 2, figsize=(15, 12))\n",
    "\n",
    "# Filter the DataFrame for Fake = 1 and Fake = 0 (Real)\n",
    "df_fake_1 = df[df['Fake'] == 1]\n",
    "df_fake_0 = df[df['Fake'] == 0]\n",
    "\n",
    "# Call the function for each column and condition\n",
    "plot_top_words(df_fake_1, 'Lemmatized Title', 'Top 10 Lemmatized Words in Fake News Titles', axs[0, 0])\n",
    "plot_top_words(df_fake_1, 'Lemmatized Text', 'Top 10 Lemmatized Words in Fake News Text', axs[1, 0])\n",
    "plot_top_words(df_fake_0, 'Lemmatized Title', 'Top 10 Lemmatized Words in Real News Titles', axs[0, 1])\n",
    "plot_top_words(df_fake_0, 'Lemmatized Text', 'Top 10 Lemmatized Words in Real News Text', axs[1, 1])\n",
    "\n",
    "plt.tight_layout()\n",
    "plt.show()\n"
   ]
  },
  {
   "cell_type": "markdown",
   "id": "2928fd31",
   "metadata": {},
   "source": [
    "Above we see some interesting summaries of what the main words are in each type of news article, and can discern the dataset appears to be centered around US politics, with a similar spread of topics between both fake and real news (Trump, president, state, people showing up in both categories)."
   ]
  },
  {
   "cell_type": "markdown",
   "id": "a28e9591",
   "metadata": {},
   "source": [
    "<a id=\"section2\"></a>\n",
    "# Part 2: Modelling with Non-Neural Models"
   ]
  },
  {
   "cell_type": "markdown",
   "id": "e4736cd5",
   "metadata": {},
   "source": [
    "In the interest of time, for the X matrix, we will only use the tokenized title in the model and assess how the model performs.\n",
    "\n",
    "If time permits, we will change the analysis to tokenized text, or a combination of title and text. "
   ]
  },
  {
   "cell_type": "markdown",
   "id": "e40e2a9e",
   "metadata": {},
   "source": [
    "<a id=\"section2A\"></a>\n",
    "## 2A:  Create X and y Dataframes"
   ]
  },
  {
   "cell_type": "markdown",
   "id": "4e8fbe95",
   "metadata": {},
   "source": [
    "In order to perform modelling, we need to convert the tokenized words into numerical vectors."
   ]
  },
  {
   "cell_type": "code",
   "execution_count": 33,
   "id": "bef58c78",
   "metadata": {},
   "outputs": [],
   "source": [
    "#First join tokenized words back into a string, separating with spaces, as is required for tokenizing using Scikit Learn\n",
    "\n",
    "X = [' '.join(token) for token in df['Lemmatized Title']]\n",
    "y = df['Fake']"
   ]
  },
  {
   "cell_type": "markdown",
   "id": "48e14091",
   "metadata": {},
   "source": [
    "### Split X and y into test and train validation sets"
   ]
  },
  {
   "cell_type": "code",
   "execution_count": 34,
   "id": "9741f1a5",
   "metadata": {},
   "outputs": [],
   "source": [
    "X_train, X_test, y_train, y_test = train_test_split(X, y, random_state = 22)"
   ]
  },
  {
   "cell_type": "markdown",
   "id": "e2a95a24",
   "metadata": {},
   "source": [
    "<a id=\"section2B\"></a>\n",
    "## 2B: Calculate Baseline"
   ]
  },
  {
   "cell_type": "markdown",
   "id": "b875d492",
   "metadata": {},
   "source": [
    "As a first step to assessing our future models performance, we will create a baseline that our classifier should aim to beat.\n",
    "\n",
    "Because this is a binary classification model, we will look at the accuracy of the model predicting the majority class for all data points as the baseline."
   ]
  },
  {
   "cell_type": "code",
   "execution_count": 35,
   "id": "09e7b719",
   "metadata": {},
   "outputs": [
    {
     "data": {
      "text/plain": [
       "Fake\n",
       "0    0.54\n",
       "1    0.46\n",
       "Name: proportion, dtype: float64"
      ]
     },
     "execution_count": 35,
     "metadata": {},
     "output_type": "execute_result"
    }
   ],
   "source": [
    "test_baseline = y_test.value_counts(normalize = True)\n",
    "test_baseline"
   ]
  },
  {
   "cell_type": "code",
   "execution_count": 36,
   "id": "bd517c7b",
   "metadata": {},
   "outputs": [
    {
     "data": {
      "text/plain": [
       "Fake\n",
       "0    0.590667\n",
       "1    0.409333\n",
       "Name: proportion, dtype: float64"
      ]
     },
     "execution_count": 36,
     "metadata": {},
     "output_type": "execute_result"
    }
   ],
   "source": [
    "train_baseline = y_train.value_counts(normalize = True)\n",
    "train_baseline"
   ]
  },
  {
   "cell_type": "code",
   "execution_count": 37,
   "id": "90ed6cc5",
   "metadata": {
    "scrolled": true
   },
   "outputs": [
    {
     "data": {
      "text/markdown": [
       "In our case, where 0 = real news and 1 = fake news, we can define our baseline performance as 54% for the test datasets. \n",
       "\n",
       "This means that if the model classified every single datapoint as the majority class (\"Real\"), then it would have ~ 54% accuracy.\n",
       "\n",
       "Our aim is to improve model performance beyond this."
      ],
      "text/plain": [
       "<IPython.core.display.Markdown object>"
      ]
     },
     "metadata": {},
     "output_type": "display_data"
    }
   ],
   "source": [
    "display(Markdown(f'In our case, where 0 = real news and 1 = fake news, we can define our baseline performance as {test_baseline[0]*100:.0f}% for the test datasets. \\n\\nThis means that if the model classified every single datapoint as the majority class (\"Real\"), then it would have ~ {test_baseline[0]*100:.0f}% accuracy.\\n\\nOur aim is to improve model performance beyond this.'))"
   ]
  },
  {
   "cell_type": "markdown",
   "id": "341c02ba",
   "metadata": {},
   "source": [
    "<a id=\"section2C\"></a>\n",
    "## 2C: Cross Validate and Tune Different Models"
   ]
  },
  {
   "cell_type": "markdown",
   "id": "c3c92bb9",
   "metadata": {},
   "source": [
    "### Methodology"
   ]
  },
  {
   "cell_type": "markdown",
   "id": "2151e70f",
   "metadata": {},
   "source": [
    "Four machine learning algorithms that are commonly used for classifying binary data will be trained and tested on our news dataset.  These are our 'models':  \n",
    "- i) Naive Bayes\n",
    "- ii) Decision Tree\n",
    "- iii) Logistic Regression\n",
    "- iv) Support Vector Classification (SVC)\n"
   ]
  },
  {
   "cell_type": "markdown",
   "id": "9ccd8607",
   "metadata": {},
   "source": [
    "To assist with our model comparison we will assign a dataframe to collect results of each model."
   ]
  },
  {
   "cell_type": "code",
   "execution_count": 38,
   "id": "8b04cacc",
   "metadata": {},
   "outputs": [
    {
     "data": {
      "text/html": [
       "<div>\n",
       "<style scoped>\n",
       "    .dataframe tbody tr th:only-of-type {\n",
       "        vertical-align: middle;\n",
       "    }\n",
       "\n",
       "    .dataframe tbody tr th {\n",
       "        vertical-align: top;\n",
       "    }\n",
       "\n",
       "    .dataframe thead th {\n",
       "        text-align: right;\n",
       "    }\n",
       "</style>\n",
       "<table border=\"1\" class=\"dataframe\">\n",
       "  <thead>\n",
       "    <tr style=\"text-align: right;\">\n",
       "      <th></th>\n",
       "      <th>Model</th>\n",
       "      <th>Train Duration</th>\n",
       "      <th>Test Accuracy</th>\n",
       "      <th>Test Recall</th>\n",
       "      <th>Test Precision</th>\n",
       "      <th>Test F1</th>\n",
       "      <th>Test PR AUC</th>\n",
       "    </tr>\n",
       "  </thead>\n",
       "  <tbody>\n",
       "  </tbody>\n",
       "</table>\n",
       "</div>"
      ],
      "text/plain": [
       "Empty DataFrame\n",
       "Columns: [Model, Train Duration, Test Accuracy, Test Recall, Test Precision, Test F1, Test PR AUC]\n",
       "Index: []"
      ]
     },
     "execution_count": 38,
     "metadata": {},
     "output_type": "execute_result"
    }
   ],
   "source": [
    "results_df = pd.DataFrame(columns = ['Model','Train Duration', 'Test Accuracy', 'Test Recall', 'Test Precision', 'Test F1', 'Test PR AUC'])\n",
    "results_df"
   ]
  },
  {
   "cell_type": "markdown",
   "id": "cfa3d726",
   "metadata": {},
   "source": [
    "### Model Training\n",
    "\n",
    "Per the methodology above, we train the four models discussed and collate their results:"
   ]
  },
  {
   "cell_type": "markdown",
   "id": "14c837ff",
   "metadata": {},
   "source": [
    "### i) Naive Bayes"
   ]
  },
  {
   "cell_type": "code",
   "execution_count": 39,
   "id": "4c8af10c",
   "metadata": {},
   "outputs": [
    {
     "data": {
      "text/plain": [
       "{'nb__alpha': 0.1}"
      ]
     },
     "execution_count": 39,
     "metadata": {},
     "output_type": "execute_result"
    }
   ],
   "source": [
    "#Create a Naive Bayes model with  TF-IDF Vectorizer and Multinomial NaiveBayes\n",
    "nb_pipe = Pipeline([('tfidf', TfidfVectorizer()),\n",
    "                       ('nb', MultinomialNB())])\n",
    "\n",
    "#Define parameters for Grid Search\n",
    "nb_params = {'nb__alpha' : [0,0.0001,0.001,0.01,0.1,1]}\n",
    "\n",
    "#Define Grid\n",
    "nb_grid = GridSearchCV(estimator = nb_pipe,\n",
    "                       param_grid = nb_params,\n",
    "                       scoring = 'f1')\n",
    "\n",
    "#Fit Model\n",
    "nb_start_time = time.time()\n",
    "nb_grid.fit(X_train, y_train)\n",
    "nb_duration = time.time() - nb_start_time\n",
    "\n",
    "#Select best estimator to make predictions\n",
    "nb_best = nb_grid.best_estimator_\n",
    "y_pred = nb_best.predict(X_test)\n",
    "\n",
    "#Score best estimator\n",
    "nb_accuracy = accuracy_score(y_test, y_pred)\n",
    "nb_recall = recall_score(y_test, y_pred)\n",
    "nb_precision = precision_score(y_test, y_pred)\n",
    "nb_f1 = f1_score(y_test, y_pred)\n",
    "\n",
    "#Display Best Parameter\n",
    "nb_params = nb_grid.best_params_\n",
    "nb_params"
   ]
  },
  {
   "cell_type": "code",
   "execution_count": 40,
   "id": "b7993110",
   "metadata": {},
   "outputs": [
    {
     "data": {
      "image/png": "[encoded data removed]",
      "text/plain": [
       "<Figure size 640x480 with 1 Axes>"
      ]
     },
     "metadata": {},
     "output_type": "display_data"
    }
   ],
   "source": [
    "# Predict the probabilities\n",
    "y_scores = nb_best.predict_proba(X_test)[:, 1]\n",
    "\n",
    "# Calculate precision and recall for various thresholds\n",
    "precision, recall, thresholds = precision_recall_curve(y_test, y_scores)\n",
    "\n",
    "# Calculate PR AUC\n",
    "nb_pr_auc = auc(recall, precision)\n",
    "\n",
    "# Plot the PR curve\n",
    "plt.figure()\n",
    "plt.plot(recall, precision, label='PR Curve (AUC = %0.2f)' % nb_pr_auc)\n",
    "plt.xlabel('Recall')\n",
    "plt.ylabel('Precision')\n",
    "plt.title('Naive Bayes Precision-Recall Area Under Curve (PR-AUC)')\n",
    "plt.legend(loc=\"lower left\")\n",
    "plt.show()"
   ]
  },
  {
   "cell_type": "code",
   "execution_count": 41,
   "id": "2a16af70",
   "metadata": {
    "scrolled": true
   },
   "outputs": [
    {
     "data": {
      "text/html": [
       "<div>\n",
       "<style scoped>\n",
       "    .dataframe tbody tr th:only-of-type {\n",
       "        vertical-align: middle;\n",
       "    }\n",
       "\n",
       "    .dataframe tbody tr th {\n",
       "        vertical-align: top;\n",
       "    }\n",
       "\n",
       "    .dataframe thead th {\n",
       "        text-align: right;\n",
       "    }\n",
       "</style>\n",
       "<table border=\"1\" class=\"dataframe\">\n",
       "  <thead>\n",
       "    <tr style=\"text-align: right;\">\n",
       "      <th></th>\n",
       "      <th>Model</th>\n",
       "      <th>Train Duration</th>\n",
       "      <th>Test Accuracy</th>\n",
       "      <th>Test Recall</th>\n",
       "      <th>Test Precision</th>\n",
       "      <th>Test F1</th>\n",
       "      <th>Test PR AUC</th>\n",
       "    </tr>\n",
       "  </thead>\n",
       "  <tbody>\n",
       "    <tr>\n",
       "      <th>0</th>\n",
       "      <td>Naive Bayes</td>\n",
       "      <td>0.348</td>\n",
       "      <td>0.744</td>\n",
       "      <td>0.583</td>\n",
       "      <td>0.807</td>\n",
       "      <td>0.677</td>\n",
       "      <td>0.826</td>\n",
       "    </tr>\n",
       "  </tbody>\n",
       "</table>\n",
       "</div>"
      ],
      "text/plain": [
       "         Model  Train Duration  Test Accuracy  Test Recall  Test Precision  \\\n",
       "0  Naive Bayes           0.348          0.744        0.583           0.807   \n",
       "\n",
       "   Test F1  Test PR AUC  \n",
       "0    0.677        0.826  "
      ]
     },
     "execution_count": 41,
     "metadata": {},
     "output_type": "execute_result"
    }
   ],
   "source": [
    "nb_report = {\n",
    "    'Model': 'Naive Bayes',\n",
    "    'Train Duration': nb_duration,\n",
    "    'Test Accuracy': nb_accuracy,\n",
    "    'Test Recall': nb_recall,\n",
    "    'Test Precision': nb_precision,\n",
    "    'Test F1': nb_f1,\n",
    "    'Test PR AUC': nb_pr_auc}\n",
    "\n",
    "\n",
    "#results_df = results_df.append(nb_report, ignore_index=True).round(3)\n",
    "nb_report = pd.DataFrame([nb_report])\n",
    "results_df = pd.concat([results_df, nb_report], ignore_index=True).round(3)\n",
    "results_df"
   ]
  },
  {
   "cell_type": "markdown",
   "id": "a8d01c4e",
   "metadata": {},
   "source": [
    "### ii) Decision Tree"
   ]
  },
  {
   "cell_type": "code",
   "execution_count": 42,
   "id": "0fa009b0",
   "metadata": {},
   "outputs": [
    {
     "data": {
      "text/plain": [
       "{'tree__criterion': 'gini',\n",
       " 'tree__max_depth': 4,\n",
       " 'tree__min_impurity_decrease': 0.01,\n",
       " 'tree__min_samples_split': 2}"
      ]
     },
     "execution_count": 42,
     "metadata": {},
     "output_type": "execute_result"
    }
   ],
   "source": [
    "#Create a Decision Tree model with  TF-IDF Vectorizer and DecisionTreeClassifier\n",
    "dt_pipe = Pipeline([('tfidf', TfidfVectorizer()),\n",
    "                    ('tree', DecisionTreeClassifier())])\n",
    "\n",
    "#Define parameters for Grid Search\n",
    "dt_params = {'tree__min_impurity_decrease': [0.01, 0.02, 0.03, 0.05],\n",
    "             'tree__criterion': ['gini','entropy'],\n",
    "             'tree__max_depth' : [1, 2, 3, 4],\n",
    "             'tree__min_samples_split' : [1, 2, 3, 4]}\n",
    "                    \n",
    "                    \n",
    "#Define Grid\n",
    "dt_grid = GridSearchCV(estimator = dt_pipe,\n",
    "                       param_grid = dt_params,\n",
    "                       scoring = 'f1')\n",
    "\n",
    "#Fit Model\n",
    "dt_start_time = time.time()\n",
    "dt_grid.fit(X_train, y_train)\n",
    "dt_duration = time.time() - dt_start_time\n",
    "\n",
    "#Select best estimator to make predictions\n",
    "dt_best = dt_grid.best_estimator_\n",
    "y_pred = dt_best.predict(X_test)\n",
    "\n",
    "#Score best estimator\n",
    "dt_accuracy = accuracy_score(y_test, y_pred)\n",
    "dt_recall = recall_score(y_test, y_pred)\n",
    "dt_precision = precision_score(y_test, y_pred)\n",
    "dt_f1 = f1_score(y_test, y_pred)\n",
    "\n",
    "#Display Best Parameter\n",
    "dt_params = dt_grid.best_params_\n",
    "dt_params"
   ]
  },
  {
   "cell_type": "code",
   "execution_count": 43,
   "id": "28fa8cdb",
   "metadata": {},
   "outputs": [
    {
     "data": {
      "image/png": "[encoded data removed]",
      "text/plain": [
       "<Figure size 640x480 with 1 Axes>"
      ]
     },
     "metadata": {},
     "output_type": "display_data"
    }
   ],
   "source": [
    "# Predict the probabilities\n",
    "y_scores = dt_best.predict_proba(X_test)[:, 1]\n",
    "\n",
    "# Calculate precision and recall for various thresholds\n",
    "precision, recall, thresholds = precision_recall_curve(y_test, y_scores)\n",
    "\n",
    "# Calculate PR AUC\n",
    "dt_pr_auc = auc(recall, precision)\n",
    "\n",
    "# Plot the PR curve\n",
    "plt.figure()\n",
    "plt.plot(recall, precision, label='PR Curve (AUC = %0.2f)' % dt_pr_auc)\n",
    "plt.xlabel('Recall')\n",
    "plt.ylabel('Precision')\n",
    "plt.title('Decision Tree Precision-Recall Area Under Curve (PR-AUC)')\n",
    "plt.legend(loc=\"lower left\")\n",
    "plt.show()"
   ]
  },
  {
   "cell_type": "code",
   "execution_count": 44,
   "id": "cb435ad6",
   "metadata": {
    "scrolled": true
   },
   "outputs": [
    {
     "data": {
      "text/html": [
       "<div>\n",
       "<style scoped>\n",
       "    .dataframe tbody tr th:only-of-type {\n",
       "        vertical-align: middle;\n",
       "    }\n",
       "\n",
       "    .dataframe tbody tr th {\n",
       "        vertical-align: top;\n",
       "    }\n",
       "\n",
       "    .dataframe thead th {\n",
       "        text-align: right;\n",
       "    }\n",
       "</style>\n",
       "<table border=\"1\" class=\"dataframe\">\n",
       "  <thead>\n",
       "    <tr style=\"text-align: right;\">\n",
       "      <th></th>\n",
       "      <th>Model</th>\n",
       "      <th>Train Duration</th>\n",
       "      <th>Test Accuracy</th>\n",
       "      <th>Test Recall</th>\n",
       "      <th>Test Precision</th>\n",
       "      <th>Test F1</th>\n",
       "      <th>Test PR AUC</th>\n",
       "    </tr>\n",
       "  </thead>\n",
       "  <tbody>\n",
       "    <tr>\n",
       "      <th>0</th>\n",
       "      <td>Naive Bayes</td>\n",
       "      <td>0.348</td>\n",
       "      <td>0.744</td>\n",
       "      <td>0.583</td>\n",
       "      <td>0.807</td>\n",
       "      <td>0.677</td>\n",
       "      <td>0.826</td>\n",
       "    </tr>\n",
       "    <tr>\n",
       "      <th>1</th>\n",
       "      <td>Decision Tree</td>\n",
       "      <td>8.689</td>\n",
       "      <td>0.684</td>\n",
       "      <td>0.330</td>\n",
       "      <td>0.950</td>\n",
       "      <td>0.490</td>\n",
       "      <td>0.817</td>\n",
       "    </tr>\n",
       "  </tbody>\n",
       "</table>\n",
       "</div>"
      ],
      "text/plain": [
       "           Model  Train Duration  Test Accuracy  Test Recall  Test Precision  \\\n",
       "0    Naive Bayes           0.348          0.744        0.583           0.807   \n",
       "1  Decision Tree           8.689          0.684        0.330           0.950   \n",
       "\n",
       "   Test F1  Test PR AUC  \n",
       "0    0.677        0.826  \n",
       "1    0.490        0.817  "
      ]
     },
     "execution_count": 44,
     "metadata": {},
     "output_type": "execute_result"
    }
   ],
   "source": [
    "dt_report = {\n",
    "    'Model': 'Decision Tree',\n",
    "    'Train Duration': dt_duration,\n",
    "    'Test Accuracy': dt_accuracy,\n",
    "    'Test Recall': dt_recall,\n",
    "    'Test Precision': dt_precision,\n",
    "    'Test F1': dt_f1,\n",
    "    'Test PR AUC': dt_pr_auc}\n",
    "\n",
    "dt_report = pd.DataFrame([dt_report])\n",
    "results_df = pd.concat([results_df, dt_report], ignore_index=True).round(3)\n",
    "results_df"
   ]
  },
  {
   "cell_type": "markdown",
   "id": "a1094be7",
   "metadata": {},
   "source": [
    "### iii) Logistic Regression"
   ]
  },
  {
   "cell_type": "code",
   "execution_count": 45,
   "id": "6ada9fb5",
   "metadata": {},
   "outputs": [
    {
     "data": {
      "text/plain": [
       "{'lr__class_weight': 'balanced',\n",
       " 'lr__fit_intercept': False,\n",
       " 'lr__penalty': 'l2'}"
      ]
     },
     "execution_count": 45,
     "metadata": {},
     "output_type": "execute_result"
    }
   ],
   "source": [
    "#Create a Logistic Regression model with  TF-IDF Vectorizer and a Logistic Regression object\n",
    "lr_pipe = Pipeline([('tfidf', TfidfVectorizer()),\n",
    "                    ('lr', LogisticRegression())])\n",
    "\n",
    "#Define parameters for Grid Search\n",
    "lr_params = {'lr__fit_intercept': [True,False],\n",
    "             'lr__class_weight': [None, 'balanced'],\n",
    "             'lr__penalty': ['none','l1','l2']}\n",
    "                    \n",
    "                    \n",
    "#Define Grid\n",
    "lr_grid = GridSearchCV(estimator = lr_pipe,\n",
    "                       param_grid = lr_params,\n",
    "                       scoring = 'f1')\n",
    "\n",
    "#Fit Model\n",
    "lr_start_time = time.time()\n",
    "lr_grid.fit(X_train, y_train)\n",
    "lr_duration = time.time() - lr_start_time\n",
    "\n",
    "#Select best estimator to make predictions\n",
    "lr_best = lr_grid.best_estimator_\n",
    "y_pred = lr_best.predict(X_test)\n",
    "\n",
    "#Score best estimator\n",
    "lr_accuracy = accuracy_score(y_test, y_pred)\n",
    "lr_recall = recall_score(y_test, y_pred)\n",
    "lr_precision = precision_score(y_test, y_pred)\n",
    "lr_f1 = f1_score(y_test, y_pred)\n",
    "\n",
    "#Display Best Parameter\n",
    "lr_params = lr_grid.best_params_\n",
    "lr_params"
   ]
  },
  {
   "cell_type": "code",
   "execution_count": 46,
   "id": "61c562ba",
   "metadata": {},
   "outputs": [
    {
     "data": {
      "image/png": "[encoded data removed]",
      "text/plain": [
       "<Figure size 640x480 with 1 Axes>"
      ]
     },
     "metadata": {},
     "output_type": "display_data"
    }
   ],
   "source": [
    "# Predict the probabilities\n",
    "y_scores = lr_best.predict_proba(X_test)[:, 1]\n",
    "\n",
    "# Calculate precision and recall for various thresholds\n",
    "precision, recall, thresholds = precision_recall_curve(y_test, y_scores)\n",
    "\n",
    "# Calculate PR AUC\n",
    "lr_pr_auc = auc(recall, precision)\n",
    "\n",
    "# Plot the PR curve\n",
    "plt.figure()\n",
    "plt.plot(recall, precision, label='PR Curve (AUC = %0.2f)' % lr_pr_auc)\n",
    "plt.xlabel('Recall')\n",
    "plt.ylabel('Precision')\n",
    "plt.title('Logistic Regression Precision-Recall Area Under Curve (PR-AUC)')\n",
    "plt.legend(loc=\"lower left\")\n",
    "plt.show()"
   ]
  },
  {
   "cell_type": "code",
   "execution_count": 47,
   "id": "6ca084ef",
   "metadata": {
    "scrolled": true
   },
   "outputs": [
    {
     "data": {
      "text/html": [
       "<div>\n",
       "<style scoped>\n",
       "    .dataframe tbody tr th:only-of-type {\n",
       "        vertical-align: middle;\n",
       "    }\n",
       "\n",
       "    .dataframe tbody tr th {\n",
       "        vertical-align: top;\n",
       "    }\n",
       "\n",
       "    .dataframe thead th {\n",
       "        text-align: right;\n",
       "    }\n",
       "</style>\n",
       "<table border=\"1\" class=\"dataframe\">\n",
       "  <thead>\n",
       "    <tr style=\"text-align: right;\">\n",
       "      <th></th>\n",
       "      <th>Model</th>\n",
       "      <th>Train Duration</th>\n",
       "      <th>Test Accuracy</th>\n",
       "      <th>Test Recall</th>\n",
       "      <th>Test Precision</th>\n",
       "      <th>Test F1</th>\n",
       "      <th>Test PR AUC</th>\n",
       "    </tr>\n",
       "  </thead>\n",
       "  <tbody>\n",
       "    <tr>\n",
       "      <th>0</th>\n",
       "      <td>Naive Bayes</td>\n",
       "      <td>0.348</td>\n",
       "      <td>0.744</td>\n",
       "      <td>0.583</td>\n",
       "      <td>0.807</td>\n",
       "      <td>0.677</td>\n",
       "      <td>0.826</td>\n",
       "    </tr>\n",
       "    <tr>\n",
       "      <th>1</th>\n",
       "      <td>Decision Tree</td>\n",
       "      <td>8.689</td>\n",
       "      <td>0.684</td>\n",
       "      <td>0.330</td>\n",
       "      <td>0.950</td>\n",
       "      <td>0.490</td>\n",
       "      <td>0.817</td>\n",
       "    </tr>\n",
       "    <tr>\n",
       "      <th>2</th>\n",
       "      <td>Logistic Regression</td>\n",
       "      <td>0.883</td>\n",
       "      <td>0.796</td>\n",
       "      <td>0.765</td>\n",
       "      <td>0.786</td>\n",
       "      <td>0.775</td>\n",
       "      <td>0.865</td>\n",
       "    </tr>\n",
       "  </tbody>\n",
       "</table>\n",
       "</div>"
      ],
      "text/plain": [
       "                 Model  Train Duration  Test Accuracy  Test Recall  \\\n",
       "0          Naive Bayes           0.348          0.744        0.583   \n",
       "1        Decision Tree           8.689          0.684        0.330   \n",
       "2  Logistic Regression           0.883          0.796        0.765   \n",
       "\n",
       "   Test Precision  Test F1  Test PR AUC  \n",
       "0           0.807    0.677        0.826  \n",
       "1           0.950    0.490        0.817  \n",
       "2           0.786    0.775        0.865  "
      ]
     },
     "execution_count": 47,
     "metadata": {},
     "output_type": "execute_result"
    }
   ],
   "source": [
    "lr_report = {\n",
    "    'Model': 'Logistic Regression',\n",
    "    'Train Duration': lr_duration,\n",
    "    'Test Accuracy': lr_accuracy,\n",
    "    'Test Recall': lr_recall,\n",
    "    'Test Precision': lr_precision,\n",
    "    'Test F1': lr_f1,\n",
    "    'Test PR AUC': lr_pr_auc}\n",
    "\n",
    "lr_report = pd.DataFrame([lr_report])\n",
    "results_df = pd.concat([results_df, lr_report], ignore_index=True).round(3)\n",
    "results_df"
   ]
  },
  {
   "cell_type": "markdown",
   "id": "ba832622",
   "metadata": {},
   "source": [
    "### iv) SVC"
   ]
  },
  {
   "cell_type": "code",
   "execution_count": 48,
   "id": "ea032fd0",
   "metadata": {},
   "outputs": [
    {
     "data": {
      "text/plain": [
       "{'svc__C': 100}"
      ]
     },
     "execution_count": 48,
     "metadata": {},
     "output_type": "execute_result"
    }
   ],
   "source": [
    "#Create a Support Vector Classification model with  TF-IDF Vectorizer and SVC object that records probabilities\n",
    "svc_pipe = Pipeline([('tfidf', TfidfVectorizer()),\n",
    "                    ('svc', SVC(probability=True))])\n",
    "\n",
    "#Define parameters for Grid Search\n",
    "#Kernel and Gamma are hashed out due to time processing constraints.  These can be uncommented in the future for furhter analysis.\n",
    "svc_params = {#'svc__kernel': ['rbf', 'poly', 'linear', 'sigmoid'],\n",
    "              #'svc__gamma': [0.1, 1.0, 10.0, 100.0]\n",
    "              'svc__C': [0.1, 1, 100]\n",
    "             }\n",
    "\n",
    "                    \n",
    "#Define Grid\n",
    "svc_grid = GridSearchCV(estimator = svc_pipe,\n",
    "                        param_grid = svc_params,\n",
    "                        scoring = 'f1')\n",
    "\n",
    "#Fit Model\n",
    "svc_start_time = time.time()\n",
    "svc_grid.fit(X_train, y_train)\n",
    "svc_duration = time.time() - svc_start_time\n",
    "\n",
    "#Select best estimator to make predictions\n",
    "svc_best = svc_grid.best_estimator_\n",
    "y_pred = svc_best.predict(X_test)\n",
    "\n",
    "#Score best estimator\n",
    "svc_accuracy = accuracy_score(y_test, y_pred)\n",
    "svc_recall = recall_score(y_test, y_pred)\n",
    "svc_precision = precision_score(y_test, y_pred)\n",
    "svc_f1 = f1_score(y_test, y_pred)\n",
    "\n",
    "#Display Best Parameter\n",
    "svc_params = svc_grid.best_params_\n",
    "svc_params"
   ]
  },
  {
   "cell_type": "code",
   "execution_count": 49,
   "id": "2de27d0f",
   "metadata": {},
   "outputs": [
    {
     "data": {
      "image/png": "[encoded data removed]",
      "text/plain": [
       "<Figure size 640x480 with 1 Axes>"
      ]
     },
     "metadata": {},
     "output_type": "display_data"
    }
   ],
   "source": [
    "# Predict the probabilities\n",
    "y_scores = svc_best.predict_proba(X_test)[:, 1]\n",
    "\n",
    "# Calculate precision and recall for various thresholds\n",
    "precision, recall, thresholds = precision_recall_curve(y_test, y_scores)\n",
    "\n",
    "# Calculate PR AUC\n",
    "svc_pr_auc = auc(recall, precision)\n",
    "\n",
    "# Plot the PR curve\n",
    "plt.figure()\n",
    "plt.plot(recall, precision, label='PR Curve (AUC = %0.2f)' % svc_pr_auc)\n",
    "plt.xlabel('Recall')\n",
    "plt.ylabel('Precision')\n",
    "plt.title('SVC Precision-Recall Area Under Curve (PR-AUC)')\n",
    "plt.legend(loc=\"lower left\")\n",
    "plt.show()"
   ]
  },
  {
   "cell_type": "code",
   "execution_count": 50,
   "id": "2c0c48b2",
   "metadata": {
    "scrolled": true
   },
   "outputs": [
    {
     "data": {
      "text/html": [
       "<div>\n",
       "<style scoped>\n",
       "    .dataframe tbody tr th:only-of-type {\n",
       "        vertical-align: middle;\n",
       "    }\n",
       "\n",
       "    .dataframe tbody tr th {\n",
       "        vertical-align: top;\n",
       "    }\n",
       "\n",
       "    .dataframe thead th {\n",
       "        text-align: right;\n",
       "    }\n",
       "</style>\n",
       "<table border=\"1\" class=\"dataframe\">\n",
       "  <thead>\n",
       "    <tr style=\"text-align: right;\">\n",
       "      <th></th>\n",
       "      <th>Model</th>\n",
       "      <th>Train Duration</th>\n",
       "      <th>Test Accuracy</th>\n",
       "      <th>Test Recall</th>\n",
       "      <th>Test Precision</th>\n",
       "      <th>Test F1</th>\n",
       "      <th>Test PR AUC</th>\n",
       "    </tr>\n",
       "  </thead>\n",
       "  <tbody>\n",
       "    <tr>\n",
       "      <th>0</th>\n",
       "      <td>Naive Bayes</td>\n",
       "      <td>0.348</td>\n",
       "      <td>0.744</td>\n",
       "      <td>0.583</td>\n",
       "      <td>0.807</td>\n",
       "      <td>0.677</td>\n",
       "      <td>0.826</td>\n",
       "    </tr>\n",
       "    <tr>\n",
       "      <th>1</th>\n",
       "      <td>Decision Tree</td>\n",
       "      <td>8.689</td>\n",
       "      <td>0.684</td>\n",
       "      <td>0.330</td>\n",
       "      <td>0.950</td>\n",
       "      <td>0.490</td>\n",
       "      <td>0.817</td>\n",
       "    </tr>\n",
       "    <tr>\n",
       "      <th>2</th>\n",
       "      <td>Logistic Regression</td>\n",
       "      <td>0.883</td>\n",
       "      <td>0.796</td>\n",
       "      <td>0.765</td>\n",
       "      <td>0.786</td>\n",
       "      <td>0.775</td>\n",
       "      <td>0.865</td>\n",
       "    </tr>\n",
       "    <tr>\n",
       "      <th>3</th>\n",
       "      <td>SVC</td>\n",
       "      <td>2.115</td>\n",
       "      <td>0.784</td>\n",
       "      <td>0.635</td>\n",
       "      <td>0.859</td>\n",
       "      <td>0.730</td>\n",
       "      <td>0.867</td>\n",
       "    </tr>\n",
       "  </tbody>\n",
       "</table>\n",
       "</div>"
      ],
      "text/plain": [
       "                 Model  Train Duration  Test Accuracy  Test Recall  \\\n",
       "0          Naive Bayes           0.348          0.744        0.583   \n",
       "1        Decision Tree           8.689          0.684        0.330   \n",
       "2  Logistic Regression           0.883          0.796        0.765   \n",
       "3                  SVC           2.115          0.784        0.635   \n",
       "\n",
       "   Test Precision  Test F1  Test PR AUC  \n",
       "0           0.807    0.677        0.826  \n",
       "1           0.950    0.490        0.817  \n",
       "2           0.786    0.775        0.865  \n",
       "3           0.859    0.730        0.867  "
      ]
     },
     "execution_count": 50,
     "metadata": {},
     "output_type": "execute_result"
    }
   ],
   "source": [
    "svc_report = {\n",
    "    'Model': 'SVC',\n",
    "    'Train Duration': svc_duration,\n",
    "    'Test Accuracy': svc_accuracy,\n",
    "    'Test Recall': svc_recall,\n",
    "    'Test Precision': svc_precision,\n",
    "    'Test F1': svc_f1,\n",
    "    'Test PR AUC': svc_pr_auc}\n",
    "\n",
    "svc_report = pd.DataFrame([svc_report])\n",
    "results_df = pd.concat([results_df, svc_report], ignore_index=True).round(3)\n",
    "results_df"
   ]
  },
  {
   "cell_type": "markdown",
   "id": "393fd563",
   "metadata": {},
   "source": [
    "<a id=\"section2D\"></a>\n",
    "### 2D: Model Review and Selection"
   ]
  },
  {
   "cell_type": "markdown",
   "id": "e3154671",
   "metadata": {},
   "source": [
    "After running our models, we can see that the best performing model based on the highest F1 score was the **Logistic Regression** model, tuned to its best performing hyperparameters of:\n",
    "- Intercept set to 0\n",
    "- L2 regularization\n",
    "    - This is a technique used to prevent overfitting in the model, by using a term to penalize excessively complex parameters in the model.\n",
    "- Balanced class weight\n",
    "    - This weights each of the classes to reduce bias towards the more prevalent class.\n",
    "\n",
    "This resulted in a model with an **F1 score of 0.775**, which we can interpret specifically in terms of number of False Negatives and False Positives using the below confusion matrix.  \n",
    "- The matrix below shows that out of the 250 test samples, there were:\n",
    "    - 24 False Positives (Real news incorrectly identified as Fake)\n",
    "    - 27 False Negatives (Fake news incorrectly identified as Real)\n",
    "    \n",
    "    \n",
    "This F1 score provides the best balance of minimizing both False Positive and False Negative results out of all of our models.\n",
    "\n",
    "We also see that it has a relatively high PR-AUC score of 0.865, meaning it should perform well across different thresholds, if future analysis and tuning required it.\n",
    "\n",
    "As a comparison to our original baseline, we can see that the corresponding accuracy score of 0.796 far exceeds the baseline of 0.54.  However, this improvement to the baseline was a trend seen generally across most models, and not particularly important compared to the more relevant F1 score metric."
   ]
  },
  {
   "cell_type": "code",
   "execution_count": 51,
   "id": "b32ce112",
   "metadata": {},
   "outputs": [
    {
     "data": {
      "image/png": "[encoded data removed]",
      "text/plain": [
       "<Figure size 640x480 with 2 Axes>"
      ]
     },
     "metadata": {},
     "output_type": "display_data"
    }
   ],
   "source": [
    "# Generate the confusion matrix\n",
    "conf_matrix = confusion_matrix(y_test, lr_best.predict(X_test))\n",
    "\n",
    "#Extract false positives\n",
    "lr_FP = conf_matrix[0][1]\n",
    "#Extract false negatives\n",
    "lr_FN = conf_matrix[1][0]\n",
    "\n",
    "# Plot the confusion matrix using ConfusionMatrixDisplay\n",
    "ConfusionMatrixDisplay(confusion_matrix=conf_matrix, display_labels=['0: Real', '1: Fake']).plot(values_format='d', cmap='Blues')\n",
    "plt.title('Logistic Regression Model Confusion Matrix')\n",
    "plt.ylabel('True Class')\n",
    "plt.xlabel('Predicted Class')\n",
    "plt.grid(False)\n",
    "plt.show()\n"
   ]
  },
  {
   "cell_type": "markdown",
   "id": "be8ac3ca",
   "metadata": {},
   "source": [
    "In order to interpret the F1 scores in a more explicit way, we will plot the confusion matrices for all the remaining models for later discussions:"
   ]
  },
  {
   "cell_type": "code",
   "execution_count": 52,
   "id": "6ccc617a",
   "metadata": {
    "scrolled": true
   },
   "outputs": [
    {
     "data": {
      "image/png": "[encoded data removed]",
      "text/plain": [
       "<Figure size 1500x500 with 6 Axes>"
      ]
     },
     "metadata": {},
     "output_type": "display_data"
    }
   ],
   "source": [
    "# Generate the confusion matrix\n",
    "nb_conf_matrix = confusion_matrix(y_test, nb_best.predict(X_test))\n",
    "dt_conf_matrix = confusion_matrix(y_test, dt_best.predict(X_test))\n",
    "svc_conf_matrix = confusion_matrix(y_test, svc_best.predict(X_test))\n",
    "\n",
    "# Create a figure for subplots\n",
    "fig, ax = plt.subplots(nrows=1, ncols=3, figsize=(15, 5))\n",
    "\n",
    "# Plot each confusion matrix\n",
    "ConfusionMatrixDisplay(confusion_matrix=nb_conf_matrix, display_labels=['0: Real', '1: Fake']).plot(values_format='d', cmap='Blues', ax=ax[0])\n",
    "ax[0].set_title('Naive Bayes Confusion Matrix')\n",
    "ax[0].set_ylabel('True Class')\n",
    "ax[0].set_xlabel('Predicted Class')\n",
    "ax[0].grid(False)\n",
    "\n",
    "ConfusionMatrixDisplay(confusion_matrix=dt_conf_matrix, display_labels=['0: Real', '1: Fake']).plot(values_format='d', cmap='Blues', ax=ax[1])\n",
    "ax[1].set_title('Decision Tree Confusion Matrix')\n",
    "ax[1].set_ylabel('True Class')\n",
    "ax[1].set_xlabel('Predicted Class')\n",
    "ax[1].grid(False)\n",
    "\n",
    "ConfusionMatrixDisplay(confusion_matrix=svc_conf_matrix, display_labels=['0: Real', '1: Fake']).plot(values_format='d', cmap='Blues', ax=ax[2])\n",
    "ax[2].set_title('SVC Confusion Matrix')\n",
    "ax[2].set_ylabel('True Class')\n",
    "ax[2].set_xlabel('Predicted Class')\n",
    "ax[2].grid(False)\n",
    "\n",
    "# Adjust layout\n",
    "plt.tight_layout()\n",
    "plt.show()"
   ]
  },
  {
   "cell_type": "markdown",
   "id": "1769eda2",
   "metadata": {},
   "source": [
    "<a id=\"section3\"></a>\n",
    "# Part 3: Modelling with Recurrent Neural Network (RNN) Model"
   ]
  },
  {
   "cell_type": "markdown",
   "id": "eeaf5593",
   "metadata": {},
   "source": [
    "<a id=\"section3A\"></a>\n",
    "## 3A: Motivation"
   ]
  },
  {
   "cell_type": "markdown",
   "id": "da1c83dc",
   "metadata": {},
   "source": [
    "As we can see, even after tuning hyperparameters to extract the best models, we had a best case scenario of 0.775 for the F1 score.\n",
    "\n",
    "With a maximum possible score of 1, there is definitely still room for improvement.  \n",
    "\n",
    "The limitations of using non-neural networking is that we are processing the text into numbers that only represent their frequency and uniqueness to the text. The challenge of detecting fake news is that both fake and real news can often contain much of the same content, and be written in similar syntax.  They may only be separate subtle changes in context, order of facts and language (such as DID vs DID NOT), and less commonly these days by improper punctuation or spelling, as well as sensationalist vocabulary."
   ]
  },
  {
   "cell_type": "markdown",
   "id": "c77c1748",
   "metadata": {},
   "source": [
    "<a id=\"section3B\"></a>\n",
    "## 3B: Additional Preprocessing of X and y Dataframes"
   ]
  },
  {
   "cell_type": "markdown",
   "id": "5f2557e6",
   "metadata": {},
   "source": [
    "The first step is to perform additional preprocessing on the X and y dataframes into formats that are appropriate for the RNN models available within python."
   ]
  },
  {
   "cell_type": "markdown",
   "id": "87670282",
   "metadata": {},
   "source": [
    "### i) Recreate X and y matrices\n",
    "This time we will take the lemmatized text column, in place of lemmatized title."
   ]
  },
  {
   "cell_type": "code",
   "execution_count": 53,
   "id": "1fe0627a",
   "metadata": {},
   "outputs": [],
   "source": [
    "#First join tokenized words back into a string, separating with spaces, as is required for tokenizing using Scikit Learn\n",
    "\n",
    "X = [' '.join(token) for token in df['Lemmatized Text']]\n",
    "y = df['Fake']"
   ]
  },
  {
   "cell_type": "markdown",
   "id": "39aa1b06",
   "metadata": {},
   "source": [
    "### ii) Tokenize the X dataframe and calculate vocabulary size\n",
    "Vocabulary size will be used below to re-initialize the tokenizer."
   ]
  },
  {
   "cell_type": "code",
   "execution_count": 54,
   "id": "58276426",
   "metadata": {},
   "outputs": [
    {
     "name": "stdout",
     "output_type": "stream",
     "text": [
      "Vocabulary size: 26351\n"
     ]
    }
   ],
   "source": [
    "# Initialize the Tokenizer\n",
    "tokenizer = Tokenizer()\n",
    "tokenizer.fit_on_texts(X)\n",
    "\n",
    "# Size of the Vocabulary\n",
    "vocab_size = len(tokenizer.word_index) + 1  #Adding 1 because index 0 is reserved\n",
    "\n",
    "print(\"Vocabulary size:\", vocab_size)"
   ]
  },
  {
   "cell_type": "markdown",
   "id": "04a236df",
   "metadata": {},
   "source": [
    "### iii) Calculate the max sample length\n",
    "This will be used in the next step to ensure all sequences have a consistent length, as required for neural network processing"
   ]
  },
  {
   "cell_type": "code",
   "execution_count": 55,
   "id": "a3caa25e",
   "metadata": {},
   "outputs": [
    {
     "name": "stdout",
     "output_type": "stream",
     "text": [
      "Chosen max_length: 630\n"
     ]
    }
   ],
   "source": [
    "# Tokenize the text\n",
    "sequences = tokenizer.texts_to_sequences(X)\n",
    "\n",
    "# Calculate the length of each sequence\n",
    "sequence_lengths = [len(seq) for seq in sequences]\n",
    "\n",
    "# Determine an appropriate max_length\n",
    "# For example, set max_length to the 90th percentile of sequence lengths\n",
    "max_length = int(np.percentile(sequence_lengths, 90))\n",
    "\n",
    "print(\"Chosen max_length:\", max_length)"
   ]
  },
  {
   "cell_type": "markdown",
   "id": "e539f2a1",
   "metadata": {},
   "source": [
    "### iv) Re-initalize Tokenizer and pad the dataframe\n",
    "Tokenizer: This is done to ensure that the vocabulary size and ID remains consistent between training and test data tokenization.\n",
    "\n",
    "Padding: This done to ensure that each sample is a consistent size, which is required for efficient batch processing. It is set to the max sample length we calculated above."
   ]
  },
  {
   "cell_type": "code",
   "execution_count": 56,
   "id": "9e9dc610",
   "metadata": {},
   "outputs": [],
   "source": [
    "# Re-initialize the tokenizer with the vocabulary size\n",
    "tokenizer = Tokenizer(num_words=vocab_size)\n",
    "tokenizer.fit_on_texts(X)\n",
    "\n",
    "# Convert texts to sequences\n",
    "sequences = tokenizer.texts_to_sequences(X)\n",
    "\n",
    "# Pad the sequences\n",
    "padded_sequences = pad_sequences(sequences, maxlen=max_length)\n"
   ]
  },
  {
   "cell_type": "markdown",
   "id": "5964ccd7",
   "metadata": {},
   "source": [
    "### v) Recreate x using the pre-processed dataframe"
   ]
  },
  {
   "cell_type": "code",
   "execution_count": 57,
   "id": "b0532d9e",
   "metadata": {},
   "outputs": [],
   "source": [
    "X = padded_sequences"
   ]
  },
  {
   "cell_type": "code",
   "execution_count": 58,
   "id": "4d925310",
   "metadata": {},
   "outputs": [
    {
     "data": {
      "text/plain": [
       "array([[    0,     0,     0, ...,   128,   724,   414],\n",
       "       [    0,     0,     0, ...,   234,   499,    72],\n",
       "       [    0,     0,     0, ...,    20,   273,  2972],\n",
       "       ...,\n",
       "       [    0,     0,     0, ...,   823, 26345, 26346],\n",
       "       [    0,     0,     0, ...,  1041,  3990,   401],\n",
       "       [    0,     0,     0, ...,   492,   141,  7560]])"
      ]
     },
     "execution_count": 58,
     "metadata": {},
     "output_type": "execute_result"
    }
   ],
   "source": [
    "X"
   ]
  },
  {
   "cell_type": "markdown",
   "id": "62fd1ed8",
   "metadata": {},
   "source": [
    "### vi) Convert y to an array\n",
    "This is required for neural network processing."
   ]
  },
  {
   "cell_type": "code",
   "execution_count": 59,
   "id": "d4ee1cb2",
   "metadata": {},
   "outputs": [],
   "source": [
    "y = df['Fake'].values"
   ]
  },
  {
   "cell_type": "markdown",
   "id": "9cdf4120",
   "metadata": {},
   "source": [
    "### vii) Split the newly tokenized X dataframe "
   ]
  },
  {
   "cell_type": "code",
   "execution_count": 60,
   "id": "84001d09",
   "metadata": {},
   "outputs": [],
   "source": [
    "#Create index trackers (idx_train and idx_test) so that we can compare final results with the original raw text entries\n",
    "\n",
    "X_train, X_test, y_train, y_test, idx_train, idx_test = train_test_split(X, y, df.index, random_state=22)"
   ]
  },
  {
   "cell_type": "markdown",
   "id": "43340adb",
   "metadata": {},
   "source": [
    "Check the size of the training sets to make sure they have been padded to the max length."
   ]
  },
  {
   "cell_type": "code",
   "execution_count": 61,
   "id": "23b7d782",
   "metadata": {},
   "outputs": [
    {
     "name": "stdout",
     "output_type": "stream",
     "text": [
      "Training set size: (750, 630)\n",
      "Testing set size: (250, 630)\n"
     ]
    }
   ],
   "source": [
    "print(\"Training set size:\", X_train.shape)\n",
    "print(\"Testing set size:\", X_test.shape)"
   ]
  },
  {
   "cell_type": "markdown",
   "id": "33d6134d",
   "metadata": {},
   "source": [
    "<a id=\"section3C\"></a>\n",
    "## 3C: Cross Validate and Tune Model"
   ]
  },
  {
   "cell_type": "markdown",
   "id": "7c8bcf51",
   "metadata": {},
   "source": [
    "### i) Set Embedding Dimensions"
   ]
  },
  {
   "cell_type": "code",
   "execution_count": 62,
   "id": "e326e320",
   "metadata": {},
   "outputs": [],
   "source": [
    "embedding_dim = 50"
   ]
  },
  {
   "cell_type": "markdown",
   "id": "9230f1dc",
   "metadata": {},
   "source": [
    "### ii) Compile Sequential Recurrent Neural Network (RNN) Model"
   ]
  },
  {
   "cell_type": "code",
   "execution_count": 63,
   "id": "920c5015",
   "metadata": {},
   "outputs": [],
   "source": [
    "#Build a function to be able to run the RNN model through GridSearchCV.  \n",
    "#Input is neurons, which will the parameter to alter\n",
    "#Select random seed 42 to make sure results are as repeatable as possible\n",
    "tf.random.set_seed(42)\n",
    "\n",
    "def build_rnn_model(neurons):\n",
    "    model = Sequential()\n",
    "    model.add(Embedding(input_dim=vocab_size, output_dim=embedding_dim, input_length=max_length))\n",
    "    model.add(LSTM(neurons))\n",
    "    model.add(Dense(1, activation='sigmoid'))\n",
    "    model.compile(optimizer='adam', loss='binary_crossentropy', metrics=['accuracy',Precision(), Recall()])\n",
    "    return model\n"
   ]
  },
  {
   "cell_type": "code",
   "execution_count": 64,
   "id": "ec9d5b57",
   "metadata": {},
   "outputs": [],
   "source": [
    "#Instantiate the model\n",
    "rnn_model = KerasClassifier(build_fn=build_rnn_model)\n",
    "                        \n",
    "#Define parameters for Grid Search\n",
    "params = {'neurons': [5, 16, 32],\n",
    "          'epochs': [5,10]}\n",
    "\n",
    "#Define Grid\n",
    "rnn_grid = GridSearchCV(estimator = rnn_model,\n",
    "                        param_grid=params,\n",
    "                        scoring = 'f1')"
   ]
  },
  {
   "cell_type": "code",
   "execution_count": 65,
   "id": "07820820",
   "metadata": {
    "scrolled": true
   },
   "outputs": [
    {
     "name": "stdout",
     "output_type": "stream",
     "text": [
      "Epoch 1/5\n",
      "19/19 [==============================] - 3s 93ms/step - loss: 0.6844 - accuracy: 0.6733 - precision: 0.7345 - recall: 0.3333\n",
      "Epoch 2/5\n",
      "19/19 [==============================] - 2s 94ms/step - loss: 0.6387 - accuracy: 0.7650 - precision: 1.0000 - recall: 0.4337\n",
      "Epoch 3/5\n",
      "19/19 [==============================] - 2s 94ms/step - loss: 0.5653 - accuracy: 0.8917 - precision: 1.0000 - recall: 0.7390\n",
      "Epoch 4/5\n",
      "19/19 [==============================] - 2s 94ms/step - loss: 0.4613 - accuracy: 0.9550 - precision: 1.0000 - recall: 0.8916\n",
      "Epoch 5/5\n",
      "19/19 [==============================] - 2s 94ms/step - loss: 0.3598 - accuracy: 0.9983 - precision: 1.0000 - recall: 0.9960\n",
      "5/5 [==============================] - 0s 19ms/step\n",
      "Epoch 1/5\n",
      "19/19 [==============================] - 3s 101ms/step - loss: 0.6799 - accuracy: 0.6783 - precision_1: 0.7473 - recall_1: 0.2857\n",
      "Epoch 2/5\n",
      "19/19 [==============================] - 2s 94ms/step - loss: 0.6206 - accuracy: 0.7183 - precision_1: 1.0000 - recall_1: 0.2899\n",
      "Epoch 3/5\n",
      "19/19 [==============================] - 2s 94ms/step - loss: 0.5091 - accuracy: 0.8800 - precision_1: 1.0000 - recall_1: 0.6975\n",
      "Epoch 4/5\n",
      "19/19 [==============================] - 2s 94ms/step - loss: 0.3719 - accuracy: 0.9883 - precision_1: 0.9915 - recall_1: 0.9790\n",
      "Epoch 5/5\n",
      "19/19 [==============================] - 2s 93ms/step - loss: 0.3118 - accuracy: 0.9817 - precision_1: 1.0000 - recall_1: 0.9538\n",
      "5/5 [==============================] - 0s 19ms/step\n",
      "Epoch 1/5\n",
      "19/19 [==============================] - 3s 92ms/step - loss: 0.6830 - accuracy: 0.6867 - precision_2: 0.7015 - recall_2: 0.3884\n",
      "Epoch 2/5\n",
      "19/19 [==============================] - 2s 94ms/step - loss: 0.6348 - accuracy: 0.7467 - precision_2: 1.0000 - recall_2: 0.3719\n",
      "Epoch 3/5\n",
      "19/19 [==============================] - 2s 96ms/step - loss: 0.5433 - accuracy: 0.7933 - precision_2: 1.0000 - recall_2: 0.4876\n",
      "Epoch 4/5\n",
      "19/19 [==============================] - 2s 103ms/step - loss: 0.4288 - accuracy: 0.9250 - precision_2: 1.0000 - recall_2: 0.8140\n",
      "Epoch 5/5\n",
      "19/19 [==============================] - 2s 94ms/step - loss: 0.3357 - accuracy: 0.9917 - precision_2: 1.0000 - recall_2: 0.9793\n",
      "5/5 [==============================] - 0s 19ms/step\n",
      "Epoch 1/5\n",
      "19/19 [==============================] - 3s 91ms/step - loss: 0.6851 - accuracy: 0.6383 - precision_3: 0.6435 - recall_3: 0.2960\n",
      "Epoch 2/5\n",
      "19/19 [==============================] - 2s 94ms/step - loss: 0.6387 - accuracy: 0.7517 - precision_3: 1.0000 - recall_3: 0.4040\n",
      "Epoch 3/5\n",
      "19/19 [==============================] - 2s 94ms/step - loss: 0.5553 - accuracy: 0.8467 - precision_3: 1.0000 - recall_3: 0.6320\n",
      "Epoch 4/5\n",
      "19/19 [==============================] - 2s 94ms/step - loss: 0.4196 - accuracy: 0.9350 - precision_3: 1.0000 - recall_3: 0.8440\n",
      "Epoch 5/5\n",
      "19/19 [==============================] - 2s 94ms/step - loss: 0.2794 - accuracy: 0.9750 - precision_3: 1.0000 - recall_3: 0.9400\n",
      "5/5 [==============================] - 0s 19ms/step\n",
      "Epoch 1/5\n",
      "19/19 [==============================] - 4s 98ms/step - loss: 0.6844 - accuracy: 0.6500 - precision_4: 0.6444 - recall_4: 0.3494\n",
      "Epoch 2/5\n",
      "19/19 [==============================] - 2s 101ms/step - loss: 0.6420 - accuracy: 0.7350 - precision_4: 1.0000 - recall_4: 0.3614\n",
      "Epoch 3/5\n",
      "19/19 [==============================] - 2s 96ms/step - loss: 0.5634 - accuracy: 0.7733 - precision_4: 1.0000 - recall_4: 0.4538\n",
      "Epoch 4/5\n",
      "19/19 [==============================] - 2s 98ms/step - loss: 0.4520 - accuracy: 0.9417 - precision_4: 1.0000 - recall_4: 0.8594\n",
      "Epoch 5/5\n",
      "19/19 [==============================] - 2s 95ms/step - loss: 0.3597 - accuracy: 0.9967 - precision_4: 1.0000 - recall_4: 0.9920\n",
      "5/5 [==============================] - 0s 20ms/step\n",
      "Epoch 1/5\n",
      "19/19 [==============================] - 3s 98ms/step - loss: 0.6877 - accuracy: 0.6500 - precision_5: 0.7294 - recall_5: 0.2490\n",
      "Epoch 2/5\n",
      "19/19 [==============================] - 2s 107ms/step - loss: 0.6561 - accuracy: 0.6817 - precision_5: 1.0000 - recall_5: 0.2329\n",
      "Epoch 3/5\n",
      "19/19 [==============================] - 2s 100ms/step - loss: 0.5405 - accuracy: 0.7100 - precision_5: 1.0000 - recall_5: 0.3012\n",
      "Epoch 4/5\n",
      "19/19 [==============================] - 2s 99ms/step - loss: 0.3128 - accuracy: 0.9550 - precision_5: 1.0000 - recall_5: 0.8916\n",
      "Epoch 5/5\n",
      "19/19 [==============================] - 2s 100ms/step - loss: 0.2114 - accuracy: 0.9933 - precision_5: 1.0000 - recall_5: 0.9839\n",
      "5/5 [==============================] - 0s 22ms/step\n",
      "Epoch 1/5\n",
      "19/19 [==============================] - 4s 102ms/step - loss: 0.6849 - accuracy: 0.6183 - precision_6: 0.5714 - recall_6: 0.1513\n",
      "Epoch 2/5\n",
      "19/19 [==============================] - 2s 110ms/step - loss: 0.6338 - accuracy: 0.6850 - precision_6: 1.0000 - recall_6: 0.2059\n",
      "Epoch 3/5\n",
      "19/19 [==============================] - 2s 111ms/step - loss: 0.4815 - accuracy: 0.7217 - precision_6: 1.0000 - recall_6: 0.2983\n",
      "Epoch 4/5\n",
      "19/19 [==============================] - 2s 111ms/step - loss: 0.2662 - accuracy: 0.9533 - precision_6: 1.0000 - recall_6: 0.8824\n",
      "Epoch 5/5\n",
      "19/19 [==============================] - 2s 102ms/step - loss: 0.1678 - accuracy: 0.9983 - precision_6: 1.0000 - recall_6: 0.9958\n",
      "5/5 [==============================] - 0s 24ms/step\n",
      "Epoch 1/5\n",
      "19/19 [==============================] - 3s 98ms/step - loss: 0.6810 - accuracy: 0.6717 - precision_7: 0.7473 - recall_7: 0.2810\n",
      "Epoch 2/5\n",
      "19/19 [==============================] - 2s 103ms/step - loss: 0.6092 - accuracy: 0.6683 - precision_7: 1.0000 - recall_7: 0.1777\n",
      "Epoch 3/5\n",
      "19/19 [==============================] - 2s 102ms/step - loss: 0.3895 - accuracy: 0.8917 - precision_7: 1.0000 - recall_7: 0.7314\n",
      "Epoch 4/5\n",
      "19/19 [==============================] - 2s 98ms/step - loss: 0.2207 - accuracy: 0.9933 - precision_7: 1.0000 - recall_7: 0.9835\n",
      "Epoch 5/5\n",
      "19/19 [==============================] - 2s 99ms/step - loss: 0.1545 - accuracy: 1.0000 - precision_7: 1.0000 - recall_7: 1.0000\n",
      "5/5 [==============================] - 0s 24ms/step\n",
      "Epoch 1/5\n",
      "19/19 [==============================] - 3s 98ms/step - loss: 0.6827 - accuracy: 0.5850 - precision_8: 0.5143 - recall_8: 0.0720\n",
      "Epoch 2/5\n",
      "19/19 [==============================] - 2s 98ms/step - loss: 0.6196 - accuracy: 0.6467 - precision_8: 1.0000 - recall_8: 0.1520\n",
      "Epoch 3/5\n",
      "19/19 [==============================] - 2s 98ms/step - loss: 0.4096 - accuracy: 0.7750 - precision_8: 1.0000 - recall_8: 0.4600\n",
      "Epoch 4/5\n",
      "19/19 [==============================] - 2s 98ms/step - loss: 0.2327 - accuracy: 0.9850 - precision_8: 1.0000 - recall_8: 0.9640\n",
      "Epoch 5/5\n",
      "19/19 [==============================] - 2s 98ms/step - loss: 0.1448 - accuracy: 0.9950 - precision_8: 1.0000 - recall_8: 0.9880\n",
      "5/5 [==============================] - 0s 24ms/step\n",
      "Epoch 1/5\n",
      "19/19 [==============================] - 3s 100ms/step - loss: 0.6792 - accuracy: 0.6983 - precision_9: 0.7787 - recall_9: 0.3815\n",
      "Epoch 2/5\n",
      "19/19 [==============================] - 2s 103ms/step - loss: 0.6070 - accuracy: 0.7200 - precision_9: 1.0000 - recall_9: 0.3253\n",
      "Epoch 3/5\n",
      "19/19 [==============================] - 2s 100ms/step - loss: 0.4084 - accuracy: 0.8017 - precision_9: 1.0000 - recall_9: 0.5221\n",
      "Epoch 4/5\n",
      "19/19 [==============================] - 2s 97ms/step - loss: 0.1739 - accuracy: 0.9883 - precision_9: 1.0000 - recall_9: 0.9719\n",
      "Epoch 5/5\n",
      "19/19 [==============================] - 2s 100ms/step - loss: 0.0968 - accuracy: 0.9983 - precision_9: 1.0000 - recall_9: 0.9960\n",
      "5/5 [==============================] - 0s 25ms/step\n",
      "Epoch 1/5\n",
      "19/19 [==============================] - 4s 108ms/step - loss: 0.6836 - accuracy: 0.5700 - precision_10: 0.3448 - recall_10: 0.0402\n",
      "Epoch 2/5\n",
      "19/19 [==============================] - 2s 109ms/step - loss: 0.5958 - accuracy: 0.6233 - precision_10: 1.0000 - recall_10: 0.0924\n",
      "Epoch 3/5\n",
      "19/19 [==============================] - 2s 109ms/step - loss: 0.3365 - accuracy: 0.9183 - precision_10: 1.0000 - recall_10: 0.8032\n",
      "Epoch 4/5\n",
      "19/19 [==============================] - 2s 119ms/step - loss: 0.1898 - accuracy: 0.9900 - precision_10: 1.0000 - recall_10: 0.9759\n",
      "Epoch 5/5\n",
      "19/19 [==============================] - 2s 110ms/step - loss: 0.1316 - accuracy: 1.0000 - precision_10: 1.0000 - recall_10: 1.0000\n"
     ]
    },
    {
     "name": "stdout",
     "output_type": "stream",
     "text": [
      "5/5 [==============================] - 0s 30ms/step\n",
      "Epoch 1/5\n",
      "19/19 [==============================] - 3s 104ms/step - loss: 0.6823 - accuracy: 0.6483 - precision_11: 0.7213 - recall_11: 0.1849\n",
      "Epoch 2/5\n",
      "19/19 [==============================] - 2s 106ms/step - loss: 0.6000 - accuracy: 0.6333 - precision_11: 1.0000 - recall_11: 0.0756\n",
      "Epoch 3/5\n",
      "19/19 [==============================] - 2s 106ms/step - loss: 0.3644 - accuracy: 0.8550 - precision_11: 1.0000 - recall_11: 0.6345\n",
      "Epoch 4/5\n",
      "19/19 [==============================] - 2s 107ms/step - loss: 0.1756 - accuracy: 0.9967 - precision_11: 1.0000 - recall_11: 0.9916\n",
      "Epoch 5/5\n",
      "19/19 [==============================] - 2s 106ms/step - loss: 0.0966 - accuracy: 1.0000 - precision_11: 1.0000 - recall_11: 1.0000\n",
      "5/5 [==============================] - 0s 33ms/step\n",
      "Epoch 1/5\n",
      "19/19 [==============================] - 4s 106ms/step - loss: 0.6803 - accuracy: 0.6100 - precision_12: 0.6250 - recall_12: 0.0826\n",
      "Epoch 2/5\n",
      "19/19 [==============================] - 2s 107ms/step - loss: 0.5807 - accuracy: 0.6350 - precision_12: 1.0000 - recall_12: 0.0950\n",
      "Epoch 3/5\n",
      "19/19 [==============================] - 2s 106ms/step - loss: 0.3008 - accuracy: 0.9183 - precision_12: 1.0000 - recall_12: 0.7975\n",
      "Epoch 4/5\n",
      "19/19 [==============================] - 2s 106ms/step - loss: 0.1342 - accuracy: 0.9983 - precision_12: 1.0000 - recall_12: 0.9959\n",
      "Epoch 5/5\n",
      "19/19 [==============================] - 2s 107ms/step - loss: 0.0672 - accuracy: 1.0000 - precision_12: 1.0000 - recall_12: 1.0000\n",
      "5/5 [==============================] - 0s 30ms/step\n",
      "Epoch 1/5\n",
      "19/19 [==============================] - 5s 130ms/step - loss: 0.6827 - accuracy: 0.5933 - precision_13: 0.5652 - recall_13: 0.1040\n",
      "Epoch 2/5\n",
      "19/19 [==============================] - 3s 135ms/step - loss: 0.6104 - accuracy: 0.6117 - precision_13: 1.0000 - recall_13: 0.0680\n",
      "Epoch 3/5\n",
      "19/19 [==============================] - 2s 127ms/step - loss: 0.3422 - accuracy: 0.8483 - precision_13: 1.0000 - recall_13: 0.6360\n",
      "Epoch 4/5\n",
      "19/19 [==============================] - 2s 125ms/step - loss: 0.1587 - accuracy: 0.9950 - precision_13: 1.0000 - recall_13: 0.9880\n",
      "Epoch 5/5\n",
      "19/19 [==============================] - 2s 126ms/step - loss: 0.0795 - accuracy: 0.9983 - precision_13: 1.0000 - recall_13: 0.9960\n",
      "5/5 [==============================] - 0s 32ms/step\n",
      "Epoch 1/5\n",
      "19/19 [==============================] - 4s 118ms/step - loss: 0.6819 - accuracy: 0.5933 - precision_14: 0.5926 - recall_14: 0.0643\n",
      "Epoch 2/5\n",
      "19/19 [==============================] - 2s 128ms/step - loss: 0.5910 - accuracy: 0.6067 - precision_14: 1.0000 - recall_14: 0.0522\n",
      "Epoch 3/5\n",
      "19/19 [==============================] - 2s 120ms/step - loss: 0.3472 - accuracy: 0.9100 - precision_14: 1.0000 - recall_14: 0.7831\n",
      "Epoch 4/5\n",
      "19/19 [==============================] - 2s 120ms/step - loss: 0.2052 - accuracy: 0.9900 - precision_14: 1.0000 - recall_14: 0.9759\n",
      "Epoch 5/5\n",
      "19/19 [==============================] - 2s 120ms/step - loss: 0.1148 - accuracy: 1.0000 - precision_14: 1.0000 - recall_14: 1.0000\n",
      "5/5 [==============================] - 0s 31ms/step\n",
      "Epoch 1/10\n",
      "19/19 [==============================] - 3s 92ms/step - loss: 0.6811 - accuracy: 0.6633 - precision_15: 0.7196 - recall_15: 0.3092\n",
      "Epoch 2/10\n",
      "19/19 [==============================] - 2s 94ms/step - loss: 0.6164 - accuracy: 0.7133 - precision_15: 1.0000 - recall_15: 0.3092\n",
      "Epoch 3/10\n",
      "19/19 [==============================] - 2s 96ms/step - loss: 0.4838 - accuracy: 0.8100 - precision_15: 1.0000 - recall_15: 0.5422\n",
      "Epoch 4/10\n",
      "19/19 [==============================] - 2s 99ms/step - loss: 0.3327 - accuracy: 0.9867 - precision_15: 1.0000 - recall_15: 0.9679\n",
      "Epoch 5/10\n",
      "19/19 [==============================] - 2s 94ms/step - loss: 0.2663 - accuracy: 0.9950 - precision_15: 1.0000 - recall_15: 0.9880\n",
      "Epoch 6/10\n",
      "19/19 [==============================] - 2s 94ms/step - loss: 0.2260 - accuracy: 1.0000 - precision_15: 1.0000 - recall_15: 1.0000\n",
      "Epoch 7/10\n",
      "19/19 [==============================] - 2s 95ms/step - loss: 0.2030 - accuracy: 0.9933 - precision_15: 1.0000 - recall_15: 0.9839\n",
      "Epoch 8/10\n",
      "19/19 [==============================] - 2s 94ms/step - loss: 0.1826 - accuracy: 1.0000 - precision_15: 1.0000 - recall_15: 1.0000\n",
      "Epoch 9/10\n",
      "19/19 [==============================] - 2s 94ms/step - loss: 0.1579 - accuracy: 1.0000 - precision_15: 1.0000 - recall_15: 1.0000\n",
      "Epoch 10/10\n",
      "19/19 [==============================] - 2s 94ms/step - loss: 0.1411 - accuracy: 0.9983 - precision_15: 1.0000 - recall_15: 0.9960\n",
      "5/5 [==============================] - 0s 20ms/step\n",
      "Epoch 1/10\n",
      "19/19 [==============================] - 3s 96ms/step - loss: 0.6896 - accuracy: 0.5883 - precision_16: 0.4366 - recall_16: 0.1303\n",
      "Epoch 2/10\n",
      "19/19 [==============================] - 2s 97ms/step - loss: 0.6667 - accuracy: 0.7317 - precision_16: 1.0000 - recall_16: 0.3235\n",
      "Epoch 3/10\n",
      "19/19 [==============================] - 2s 98ms/step - loss: 0.6257 - accuracy: 0.7617 - precision_16: 1.0000 - recall_16: 0.3992\n",
      "Epoch 4/10\n",
      "19/19 [==============================] - 2s 93ms/step - loss: 0.5618 - accuracy: 0.8700 - precision_16: 1.0000 - recall_16: 0.6723\n",
      "Epoch 5/10\n",
      "19/19 [==============================] - 2s 94ms/step - loss: 0.4815 - accuracy: 0.9717 - precision_16: 1.0000 - recall_16: 0.9286\n",
      "Epoch 6/10\n",
      "19/19 [==============================] - 2s 96ms/step - loss: 0.3983 - accuracy: 0.9950 - precision_16: 1.0000 - recall_16: 0.9874\n",
      "Epoch 7/10\n",
      "19/19 [==============================] - 2s 94ms/step - loss: 0.3258 - accuracy: 0.9983 - precision_16: 1.0000 - recall_16: 0.9958\n",
      "Epoch 8/10\n",
      "19/19 [==============================] - 2s 94ms/step - loss: 0.2712 - accuracy: 1.0000 - precision_16: 1.0000 - recall_16: 1.0000\n",
      "Epoch 9/10\n",
      "19/19 [==============================] - 2s 94ms/step - loss: 0.2320 - accuracy: 1.0000 - precision_16: 1.0000 - recall_16: 1.0000\n",
      "Epoch 10/10\n",
      "19/19 [==============================] - 2s 99ms/step - loss: 0.2035 - accuracy: 1.0000 - precision_16: 1.0000 - recall_16: 1.0000\n",
      "5/5 [==============================] - 0s 22ms/step\n",
      "Epoch 1/10\n",
      "19/19 [==============================] - 3s 91ms/step - loss: 0.6819 - accuracy: 0.6967 - precision_17: 0.7679 - recall_17: 0.3554\n",
      "Epoch 2/10\n",
      "19/19 [==============================] - 2s 92ms/step - loss: 0.6347 - accuracy: 0.7517 - precision_17: 1.0000 - recall_17: 0.3843\n",
      "Epoch 3/10\n",
      "19/19 [==============================] - 2s 92ms/step - loss: 0.5404 - accuracy: 0.7867 - precision_17: 1.0000 - recall_17: 0.4711\n",
      "Epoch 4/10\n",
      "19/19 [==============================] - 2s 94ms/step - loss: 0.4117 - accuracy: 0.8717 - precision_17: 1.0000 - recall_17: 0.6818\n",
      "Epoch 5/10\n",
      "19/19 [==============================] - 2s 93ms/step - loss: 0.3008 - accuracy: 0.9867 - precision_17: 1.0000 - recall_17: 0.9669\n",
      "Epoch 6/10\n",
      "19/19 [==============================] - 2s 92ms/step - loss: 0.2299 - accuracy: 0.9967 - precision_17: 1.0000 - recall_17: 0.9917\n",
      "Epoch 7/10\n",
      "19/19 [==============================] - 2s 93ms/step - loss: 0.1868 - accuracy: 1.0000 - precision_17: 1.0000 - recall_17: 1.0000\n",
      "Epoch 8/10\n",
      "19/19 [==============================] - 2s 99ms/step - loss: 0.1571 - accuracy: 1.0000 - precision_17: 1.0000 - recall_17: 1.0000\n",
      "Epoch 9/10\n",
      "19/19 [==============================] - 2s 93ms/step - loss: 0.1368 - accuracy: 1.0000 - precision_17: 1.0000 - recall_17: 1.0000\n",
      "Epoch 10/10\n",
      "19/19 [==============================] - 2s 93ms/step - loss: 0.1212 - accuracy: 1.0000 - precision_17: 1.0000 - recall_17: 1.0000\n",
      "5/5 [==============================] - 0s 20ms/step\n",
      "Epoch 1/10\n",
      "19/19 [==============================] - 3s 93ms/step - loss: 0.6879 - accuracy: 0.6400 - precision_18: 0.6735 - recall_18: 0.2640\n",
      "Epoch 2/10\n",
      "19/19 [==============================] - 2s 95ms/step - loss: 0.6595 - accuracy: 0.7467 - precision_18: 1.0000 - recall_18: 0.3920\n",
      "Epoch 3/10\n",
      "19/19 [==============================] - 2s 94ms/step - loss: 0.6074 - accuracy: 0.8167 - precision_18: 1.0000 - recall_18: 0.5600\n",
      "Epoch 4/10\n",
      "19/19 [==============================] - 2s 94ms/step - loss: 0.5137 - accuracy: 0.8817 - precision_18: 1.0000 - recall_18: 0.7160\n",
      "Epoch 5/10\n"
     ]
    },
    {
     "name": "stdout",
     "output_type": "stream",
     "text": [
      "19/19 [==============================] - 2s 95ms/step - loss: 0.4127 - accuracy: 0.9800 - precision_18: 1.0000 - recall_18: 0.9520\n",
      "Epoch 6/10\n",
      "19/19 [==============================] - 2s 103ms/step - loss: 0.3415 - accuracy: 0.9967 - precision_18: 1.0000 - recall_18: 0.9920\n",
      "Epoch 7/10\n",
      "19/19 [==============================] - 2s 94ms/step - loss: 0.2952 - accuracy: 1.0000 - precision_18: 1.0000 - recall_18: 1.0000\n",
      "Epoch 8/10\n",
      "19/19 [==============================] - 2s 93ms/step - loss: 0.2601 - accuracy: 1.0000 - precision_18: 1.0000 - recall_18: 1.0000\n",
      "Epoch 9/10\n",
      "19/19 [==============================] - 2s 94ms/step - loss: 0.2311 - accuracy: 1.0000 - precision_18: 1.0000 - recall_18: 1.0000\n",
      "Epoch 10/10\n",
      "19/19 [==============================] - 2s 94ms/step - loss: 0.2042 - accuracy: 1.0000 - precision_18: 1.0000 - recall_18: 1.0000\n",
      "5/5 [==============================] - 0s 21ms/step\n",
      "Epoch 1/10\n",
      "19/19 [==============================] - 3s 92ms/step - loss: 0.6819 - accuracy: 0.6600 - precision_19: 0.6772 - recall_19: 0.3454\n",
      "Epoch 2/10\n",
      "19/19 [==============================] - 2s 94ms/step - loss: 0.6306 - accuracy: 0.7717 - precision_19: 1.0000 - recall_19: 0.4498\n",
      "Epoch 3/10\n",
      "19/19 [==============================] - 2s 101ms/step - loss: 0.5535 - accuracy: 0.8850 - precision_19: 1.0000 - recall_19: 0.7229\n",
      "Epoch 4/10\n",
      "19/19 [==============================] - 2s 110ms/step - loss: 0.4459 - accuracy: 0.9667 - precision_19: 1.0000 - recall_19: 0.9197\n",
      "Epoch 5/10\n",
      "19/19 [==============================] - 2s 101ms/step - loss: 0.3344 - accuracy: 0.9933 - precision_19: 1.0000 - recall_19: 0.9839\n",
      "Epoch 6/10\n",
      "19/19 [==============================] - 2s 101ms/step - loss: 0.2510 - accuracy: 0.9950 - precision_19: 1.0000 - recall_19: 0.9880\n",
      "Epoch 7/10\n",
      "19/19 [==============================] - 2s 101ms/step - loss: 0.1985 - accuracy: 0.9983 - precision_19: 1.0000 - recall_19: 0.9960\n",
      "Epoch 8/10\n",
      "19/19 [==============================] - 2s 96ms/step - loss: 0.1649 - accuracy: 1.0000 - precision_19: 1.0000 - recall_19: 1.0000\n",
      "Epoch 9/10\n",
      "19/19 [==============================] - 2s 95ms/step - loss: 0.1409 - accuracy: 1.0000 - precision_19: 1.0000 - recall_19: 1.0000\n",
      "Epoch 10/10\n",
      "19/19 [==============================] - 2s 94ms/step - loss: 0.1221 - accuracy: 1.0000 - precision_19: 1.0000 - recall_19: 1.0000\n",
      "5/5 [==============================] - 0s 18ms/step\n",
      "Epoch 1/10\n",
      "19/19 [==============================] - 4s 106ms/step - loss: 0.6834 - accuracy: 0.6617 - precision_20: 0.7949 - recall_20: 0.2490\n",
      "Epoch 2/10\n",
      "19/19 [==============================] - 2s 105ms/step - loss: 0.6221 - accuracy: 0.7033 - precision_20: 1.0000 - recall_20: 0.2851\n",
      "Epoch 3/10\n",
      "19/19 [==============================] - 2s 106ms/step - loss: 0.4281 - accuracy: 0.7883 - precision_20: 1.0000 - recall_20: 0.4900\n",
      "Epoch 4/10\n",
      "19/19 [==============================] - 2s 106ms/step - loss: 0.2748 - accuracy: 0.9733 - precision_20: 1.0000 - recall_20: 0.9357\n",
      "Epoch 5/10\n",
      "19/19 [==============================] - 2s 106ms/step - loss: 0.1745 - accuracy: 0.9983 - precision_20: 1.0000 - recall_20: 0.9960\n",
      "Epoch 6/10\n",
      "19/19 [==============================] - 2s 105ms/step - loss: 0.1275 - accuracy: 0.9983 - precision_20: 1.0000 - recall_20: 0.9960\n",
      "Epoch 7/10\n",
      "19/19 [==============================] - 2s 106ms/step - loss: 0.0965 - accuracy: 1.0000 - precision_20: 1.0000 - recall_20: 1.0000\n",
      "Epoch 8/10\n",
      "19/19 [==============================] - 2s 113ms/step - loss: 0.0751 - accuracy: 1.0000 - precision_20: 1.0000 - recall_20: 1.0000\n",
      "Epoch 9/10\n",
      "19/19 [==============================] - 2s 109ms/step - loss: 0.0593 - accuracy: 1.0000 - precision_20: 1.0000 - recall_20: 1.0000\n",
      "Epoch 10/10\n",
      "19/19 [==============================] - 2s 106ms/step - loss: 0.0475 - accuracy: 1.0000 - precision_20: 1.0000 - recall_20: 1.0000\n",
      "5/5 [==============================] - 0s 25ms/step\n",
      "Epoch 1/10\n",
      "19/19 [==============================] - 3s 102ms/step - loss: 0.6804 - accuracy: 0.6833 - precision_21: 0.7400 - recall_21: 0.3109\n",
      "Epoch 2/10\n",
      "19/19 [==============================] - 2s 105ms/step - loss: 0.6040 - accuracy: 0.7200 - precision_21: 1.0000 - recall_21: 0.2941\n",
      "Epoch 3/10\n",
      "19/19 [==============================] - 2s 104ms/step - loss: 0.4018 - accuracy: 0.7833 - precision_21: 1.0000 - recall_21: 0.4538\n",
      "Epoch 4/10\n",
      "19/19 [==============================] - 2s 103ms/step - loss: 0.1916 - accuracy: 0.9767 - precision_21: 1.0000 - recall_21: 0.9412\n",
      "Epoch 5/10\n",
      "19/19 [==============================] - 2s 110ms/step - loss: 0.0997 - accuracy: 1.0000 - precision_21: 1.0000 - recall_21: 1.0000\n",
      "Epoch 6/10\n",
      "19/19 [==============================] - 2s 103ms/step - loss: 0.0671 - accuracy: 1.0000 - precision_21: 1.0000 - recall_21: 1.0000\n",
      "Epoch 7/10\n",
      "19/19 [==============================] - 2s 101ms/step - loss: 0.0462 - accuracy: 1.0000 - precision_21: 1.0000 - recall_21: 1.0000\n",
      "Epoch 8/10\n",
      "19/19 [==============================] - 2s 101ms/step - loss: 0.0332 - accuracy: 1.0000 - precision_21: 1.0000 - recall_21: 1.0000\n",
      "Epoch 9/10\n",
      "19/19 [==============================] - 2s 101ms/step - loss: 0.0251 - accuracy: 1.0000 - precision_21: 1.0000 - recall_21: 1.0000\n",
      "Epoch 10/10\n",
      "19/19 [==============================] - 2s 101ms/step - loss: 0.0196 - accuracy: 1.0000 - precision_21: 1.0000 - recall_21: 1.0000\n",
      "5/5 [==============================] - 0s 23ms/step\n",
      "Epoch 1/10\n",
      "19/19 [==============================] - 3s 101ms/step - loss: 0.6846 - accuracy: 0.5667 - precision_22: 0.1538 - recall_22: 0.0165\n",
      "Epoch 2/10\n",
      "19/19 [==============================] - 2s 105ms/step - loss: 0.6218 - accuracy: 0.6217 - precision_22: 1.0000 - recall_22: 0.0620\n",
      "Epoch 3/10\n",
      "19/19 [==============================] - 2s 103ms/step - loss: 0.4280 - accuracy: 0.7667 - precision_22: 1.0000 - recall_22: 0.4215\n",
      "Epoch 4/10\n",
      "19/19 [==============================] - 2s 101ms/step - loss: 0.1833 - accuracy: 0.9883 - precision_22: 1.0000 - recall_22: 0.9711\n",
      "Epoch 5/10\n",
      "19/19 [==============================] - 2s 98ms/step - loss: 0.1112 - accuracy: 0.9983 - precision_22: 1.0000 - recall_22: 0.9959\n",
      "Epoch 6/10\n",
      "19/19 [==============================] - 2s 100ms/step - loss: 0.0828 - accuracy: 0.9983 - precision_22: 0.9959 - recall_22: 1.0000\n",
      "Epoch 7/10\n",
      "19/19 [==============================] - 2s 100ms/step - loss: 0.0545 - accuracy: 0.9983 - precision_22: 1.0000 - recall_22: 0.9959\n",
      "Epoch 8/10\n",
      "19/19 [==============================] - 2s 97ms/step - loss: 0.0401 - accuracy: 1.0000 - precision_22: 1.0000 - recall_22: 1.0000\n",
      "Epoch 9/10\n",
      "19/19 [==============================] - 2s 97ms/step - loss: 0.0308 - accuracy: 1.0000 - precision_22: 1.0000 - recall_22: 1.0000\n",
      "Epoch 10/10\n",
      "19/19 [==============================] - 2s 98ms/step - loss: 0.0240 - accuracy: 1.0000 - precision_22: 1.0000 - recall_22: 1.0000\n",
      "5/5 [==============================] - 0s 26ms/step\n",
      "Epoch 1/10\n",
      "19/19 [==============================] - 3s 98ms/step - loss: 0.6833 - accuracy: 0.6333 - precision_23: 0.7143 - recall_23: 0.2000\n",
      "Epoch 2/10\n",
      "19/19 [==============================] - 2s 99ms/step - loss: 0.6269 - accuracy: 0.6650 - precision_23: 1.0000 - recall_23: 0.1960\n",
      "Epoch 3/10\n",
      "19/19 [==============================] - 2s 99ms/step - loss: 0.4420 - accuracy: 0.7883 - precision_23: 1.0000 - recall_23: 0.4920\n",
      "Epoch 4/10\n",
      "19/19 [==============================] - 2s 99ms/step - loss: 0.2398 - accuracy: 0.9917 - precision_23: 1.0000 - recall_23: 0.9800\n",
      "Epoch 5/10\n",
      "19/19 [==============================] - 2s 99ms/step - loss: 0.1747 - accuracy: 0.9950 - precision_23: 1.0000 - recall_23: 0.9880\n",
      "Epoch 6/10\n",
      "19/19 [==============================] - 2s 99ms/step - loss: 0.1265 - accuracy: 0.9983 - precision_23: 1.0000 - recall_23: 0.9960\n",
      "Epoch 7/10\n",
      "19/19 [==============================] - 2s 98ms/step - loss: 0.0955 - accuracy: 1.0000 - precision_23: 1.0000 - recall_23: 1.0000\n",
      "Epoch 8/10\n",
      "19/19 [==============================] - 2s 107ms/step - loss: 0.0748 - accuracy: 1.0000 - precision_23: 1.0000 - recall_23: 1.0000\n",
      "Epoch 9/10\n",
      "19/19 [==============================] - 2s 104ms/step - loss: 0.0594 - accuracy: 1.0000 - precision_23: 1.0000 - recall_23: 1.0000\n",
      "Epoch 10/10\n"
     ]
    },
    {
     "name": "stdout",
     "output_type": "stream",
     "text": [
      "19/19 [==============================] - 2s 104ms/step - loss: 0.0492 - accuracy: 1.0000 - precision_23: 1.0000 - recall_23: 1.0000\n",
      "5/5 [==============================] - 0s 22ms/step\n",
      "Epoch 1/10\n",
      "19/19 [==============================] - 3s 95ms/step - loss: 0.6825 - accuracy: 0.6083 - precision_24: 0.5897 - recall_24: 0.1847\n",
      "Epoch 2/10\n",
      "19/19 [==============================] - 2s 98ms/step - loss: 0.6144 - accuracy: 0.6517 - precision_24: 1.0000 - recall_24: 0.1606\n",
      "Epoch 3/10\n",
      "19/19 [==============================] - 2s 101ms/step - loss: 0.3999 - accuracy: 0.8033 - precision_24: 1.0000 - recall_24: 0.5261\n",
      "Epoch 4/10\n",
      "19/19 [==============================] - 2s 98ms/step - loss: 0.1962 - accuracy: 0.9900 - precision_24: 1.0000 - recall_24: 0.9759\n",
      "Epoch 5/10\n",
      "19/19 [==============================] - 2s 103ms/step - loss: 0.1216 - accuracy: 1.0000 - precision_24: 1.0000 - recall_24: 1.0000\n",
      "Epoch 6/10\n",
      "19/19 [==============================] - 2s 108ms/step - loss: 0.0832 - accuracy: 1.0000 - precision_24: 1.0000 - recall_24: 1.0000\n",
      "Epoch 7/10\n",
      "19/19 [==============================] - 2s 97ms/step - loss: 0.0595 - accuracy: 1.0000 - precision_24: 1.0000 - recall_24: 1.0000\n",
      "Epoch 8/10\n",
      "19/19 [==============================] - 2s 97ms/step - loss: 0.0456 - accuracy: 1.0000 - precision_24: 1.0000 - recall_24: 1.0000\n",
      "Epoch 9/10\n",
      "19/19 [==============================] - 2s 96ms/step - loss: 0.0390 - accuracy: 0.9983 - precision_24: 1.0000 - recall_24: 0.9960\n",
      "Epoch 10/10\n",
      "19/19 [==============================] - 2s 96ms/step - loss: 0.0322 - accuracy: 0.9983 - precision_24: 1.0000 - recall_24: 0.9960\n",
      "5/5 [==============================] - 0s 22ms/step\n",
      "Epoch 1/10\n",
      "19/19 [==============================] - 4s 105ms/step - loss: 0.6813 - accuracy: 0.5833 - precision_25: 0.4839 - recall_25: 0.0602\n",
      "Epoch 2/10\n",
      "19/19 [==============================] - 2s 110ms/step - loss: 0.5913 - accuracy: 0.6233 - precision_25: 1.0000 - recall_25: 0.0924\n",
      "Epoch 3/10\n",
      "19/19 [==============================] - 2s 118ms/step - loss: 0.3306 - accuracy: 0.9267 - precision_25: 1.0000 - recall_25: 0.8233\n",
      "Epoch 4/10\n",
      "19/19 [==============================] - 2s 108ms/step - loss: 0.1690 - accuracy: 0.9917 - precision_25: 1.0000 - recall_25: 0.9799\n",
      "Epoch 5/10\n",
      "19/19 [==============================] - 2s 108ms/step - loss: 0.1029 - accuracy: 1.0000 - precision_25: 1.0000 - recall_25: 1.0000\n",
      "Epoch 6/10\n",
      "19/19 [==============================] - 2s 108ms/step - loss: 0.0649 - accuracy: 0.9983 - precision_25: 1.0000 - recall_25: 0.9960\n",
      "Epoch 7/10\n",
      "19/19 [==============================] - 2s 107ms/step - loss: 0.0424 - accuracy: 1.0000 - precision_25: 1.0000 - recall_25: 1.0000\n",
      "Epoch 8/10\n",
      "19/19 [==============================] - 2s 108ms/step - loss: 0.0249 - accuracy: 1.0000 - precision_25: 1.0000 - recall_25: 1.0000\n",
      "Epoch 9/10\n",
      "19/19 [==============================] - 2s 108ms/step - loss: 0.0176 - accuracy: 0.9983 - precision_25: 0.9960 - recall_25: 1.0000\n",
      "Epoch 10/10\n",
      "19/19 [==============================] - 2s 114ms/step - loss: 0.0153 - accuracy: 0.9983 - precision_25: 1.0000 - recall_25: 0.9960\n",
      "5/5 [==============================] - 0s 33ms/step\n",
      "Epoch 1/10\n",
      "19/19 [==============================] - 4s 106ms/step - loss: 0.6850 - accuracy: 0.5883 - precision_26: 0.3636 - recall_26: 0.0504\n",
      "Epoch 2/10\n",
      "19/19 [==============================] - 2s 108ms/step - loss: 0.6173 - accuracy: 0.6050 - precision_26: 1.0000 - recall_26: 0.0042\n",
      "Epoch 3/10\n",
      "19/19 [==============================] - 2s 109ms/step - loss: 0.4033 - accuracy: 0.8017 - precision_26: 1.0000 - recall_26: 0.5000\n",
      "Epoch 4/10\n",
      "19/19 [==============================] - 2s 119ms/step - loss: 0.2081 - accuracy: 0.9783 - precision_26: 1.0000 - recall_26: 0.9454\n",
      "Epoch 5/10\n",
      "19/19 [==============================] - 2s 115ms/step - loss: 0.1266 - accuracy: 0.9983 - precision_26: 1.0000 - recall_26: 0.9958\n",
      "Epoch 6/10\n",
      "19/19 [==============================] - 2s 118ms/step - loss: 0.0831 - accuracy: 1.0000 - precision_26: 1.0000 - recall_26: 1.0000\n",
      "Epoch 7/10\n",
      "19/19 [==============================] - 2s 125ms/step - loss: 0.0503 - accuracy: 1.0000 - precision_26: 1.0000 - recall_26: 1.0000\n",
      "Epoch 8/10\n",
      "19/19 [==============================] - 2s 117ms/step - loss: 0.0323 - accuracy: 1.0000 - precision_26: 1.0000 - recall_26: 1.0000\n",
      "Epoch 9/10\n",
      "19/19 [==============================] - 2s 113ms/step - loss: 0.0211 - accuracy: 1.0000 - precision_26: 1.0000 - recall_26: 1.0000\n",
      "Epoch 10/10\n",
      "19/19 [==============================] - 2s 112ms/step - loss: 0.0137 - accuracy: 1.0000 - precision_26: 1.0000 - recall_26: 1.0000\n",
      "5/5 [==============================] - 0s 31ms/step\n",
      "Epoch 1/10\n",
      "19/19 [==============================] - 4s 116ms/step - loss: 0.6823 - accuracy: 0.5767 - precision_27: 0.2857 - recall_27: 0.0331\n",
      "Epoch 2/10\n",
      "19/19 [==============================] - 2s 117ms/step - loss: 0.5985 - accuracy: 0.6183 - precision_27: 1.0000 - recall_27: 0.0537\n",
      "Epoch 3/10\n",
      "19/19 [==============================] - 2s 127ms/step - loss: 0.3234 - accuracy: 0.8900 - precision_27: 1.0000 - recall_27: 0.7273\n",
      "Epoch 4/10\n",
      "19/19 [==============================] - 2s 119ms/step - loss: 0.1462 - accuracy: 0.9967 - precision_27: 1.0000 - recall_27: 0.9917\n",
      "Epoch 5/10\n",
      "19/19 [==============================] - 2s 112ms/step - loss: 0.0670 - accuracy: 0.9983 - precision_27: 1.0000 - recall_27: 0.9959\n",
      "Epoch 6/10\n",
      "19/19 [==============================] - 2s 111ms/step - loss: 0.0340 - accuracy: 1.0000 - precision_27: 1.0000 - recall_27: 1.0000\n",
      "Epoch 7/10\n",
      "19/19 [==============================] - 2s 111ms/step - loss: 0.0247 - accuracy: 0.9967 - precision_27: 1.0000 - recall_27: 0.9917\n",
      "Epoch 8/10\n",
      "19/19 [==============================] - 2s 112ms/step - loss: 0.0340 - accuracy: 1.0000 - precision_27: 1.0000 - recall_27: 1.0000\n",
      "Epoch 9/10\n",
      "19/19 [==============================] - 2s 111ms/step - loss: 0.0145 - accuracy: 1.0000 - precision_27: 1.0000 - recall_27: 1.0000\n",
      "Epoch 10/10\n",
      "19/19 [==============================] - 2s 119ms/step - loss: 0.0093 - accuracy: 1.0000 - precision_27: 1.0000 - recall_27: 1.0000\n",
      "5/5 [==============================] - 0s 33ms/step\n",
      "Epoch 1/10\n",
      "19/19 [==============================] - 4s 129ms/step - loss: 0.6824 - accuracy: 0.5833 - precision_28: 0.5000 - recall_28: 0.0520\n",
      "Epoch 2/10\n",
      "19/19 [==============================] - 3s 136ms/step - loss: 0.6150 - accuracy: 0.5933 - precision_28: 1.0000 - recall_28: 0.0240\n",
      "Epoch 3/10\n",
      "19/19 [==============================] - 3s 132ms/step - loss: 0.3742 - accuracy: 0.8433 - precision_28: 1.0000 - recall_28: 0.6240\n",
      "Epoch 4/10\n",
      "19/19 [==============================] - 2s 132ms/step - loss: 0.1786 - accuracy: 0.9983 - precision_28: 1.0000 - recall_28: 0.9960\n",
      "Epoch 5/10\n",
      "19/19 [==============================] - 3s 137ms/step - loss: 0.0928 - accuracy: 0.9967 - precision_28: 1.0000 - recall_28: 0.9920\n",
      "Epoch 6/10\n",
      "19/19 [==============================] - 3s 134ms/step - loss: 0.0474 - accuracy: 1.0000 - precision_28: 1.0000 - recall_28: 1.0000\n",
      "Epoch 7/10\n",
      "19/19 [==============================] - 3s 134ms/step - loss: 0.0224 - accuracy: 0.9983 - precision_28: 1.0000 - recall_28: 0.9960\n",
      "Epoch 8/10\n",
      "19/19 [==============================] - 3s 140ms/step - loss: 0.0138 - accuracy: 0.9983 - precision_28: 0.9960 - recall_28: 1.0000\n",
      "Epoch 9/10\n",
      "19/19 [==============================] - 3s 133ms/step - loss: 0.0094 - accuracy: 1.0000 - precision_28: 1.0000 - recall_28: 1.0000\n",
      "Epoch 10/10\n",
      "19/19 [==============================] - 2s 131ms/step - loss: 0.0069 - accuracy: 1.0000 - precision_28: 1.0000 - recall_28: 1.0000\n",
      "5/5 [==============================] - 0s 33ms/step\n",
      "Epoch 1/10\n",
      "19/19 [==============================] - 4s 123ms/step - loss: 0.6829 - accuracy: 0.6150 - precision_29: 0.6800 - recall_29: 0.1365\n",
      "Epoch 2/10\n",
      "19/19 [==============================] - 2s 117ms/step - loss: 0.6026 - accuracy: 0.6017 - precision_29: 1.0000 - recall_29: 0.0402\n",
      "Epoch 3/10\n",
      "19/19 [==============================] - 2s 118ms/step - loss: 0.3447 - accuracy: 0.9000 - precision_29: 1.0000 - recall_29: 0.7590\n",
      "Epoch 4/10\n",
      "19/19 [==============================] - 2s 117ms/step - loss: 0.1859 - accuracy: 0.9900 - precision_29: 1.0000 - recall_29: 0.9759\n",
      "Epoch 5/10\n"
     ]
    },
    {
     "name": "stdout",
     "output_type": "stream",
     "text": [
      "19/19 [==============================] - 2s 118ms/step - loss: 0.1064 - accuracy: 1.0000 - precision_29: 1.0000 - recall_29: 1.0000\n",
      "Epoch 6/10\n",
      "19/19 [==============================] - 2s 117ms/step - loss: 0.0635 - accuracy: 1.0000 - precision_29: 1.0000 - recall_29: 1.0000\n",
      "Epoch 7/10\n",
      "19/19 [==============================] - 2s 116ms/step - loss: 0.0402 - accuracy: 1.0000 - precision_29: 1.0000 - recall_29: 1.0000\n",
      "Epoch 8/10\n",
      "19/19 [==============================] - 2s 125ms/step - loss: 0.0281 - accuracy: 0.9983 - precision_29: 0.9960 - recall_29: 1.0000\n",
      "Epoch 9/10\n",
      "19/19 [==============================] - 2s 117ms/step - loss: 0.0314 - accuracy: 0.9983 - precision_29: 1.0000 - recall_29: 0.9960\n",
      "Epoch 10/10\n",
      "19/19 [==============================] - 2s 120ms/step - loss: 0.0166 - accuracy: 1.0000 - precision_29: 1.0000 - recall_29: 1.0000\n",
      "5/5 [==============================] - 0s 31ms/step\n",
      "Epoch 1/10\n",
      "24/24 [==============================] - 4s 110ms/step - loss: 0.6787 - accuracy: 0.5853 - precision_30: 0.3750 - recall_30: 0.0195\n",
      "Epoch 2/10\n",
      "24/24 [==============================] - 3s 110ms/step - loss: 0.5407 - accuracy: 0.6627 - precision_30: 1.0000 - recall_30: 0.1759\n",
      "Epoch 3/10\n",
      "24/24 [==============================] - 3s 111ms/step - loss: 0.2292 - accuracy: 0.9733 - precision_30: 0.9864 - recall_30: 0.9479\n",
      "Epoch 4/10\n",
      "24/24 [==============================] - 3s 111ms/step - loss: 0.0990 - accuracy: 0.9947 - precision_30: 0.9967 - recall_30: 0.9902\n",
      "Epoch 5/10\n",
      "24/24 [==============================] - 3s 108ms/step - loss: 0.0402 - accuracy: 0.9987 - precision_30: 0.9968 - recall_30: 1.0000\n",
      "Epoch 6/10\n",
      "24/24 [==============================] - 3s 108ms/step - loss: 0.0222 - accuracy: 0.9973 - precision_30: 0.9967 - recall_30: 0.9967\n",
      "Epoch 7/10\n",
      "24/24 [==============================] - 3s 107ms/step - loss: 0.0138 - accuracy: 1.0000 - precision_30: 1.0000 - recall_30: 1.0000\n",
      "Epoch 8/10\n",
      "24/24 [==============================] - 3s 108ms/step - loss: 0.0094 - accuracy: 1.0000 - precision_30: 1.0000 - recall_30: 1.0000\n",
      "Epoch 9/10\n",
      "24/24 [==============================] - 3s 110ms/step - loss: 0.0069 - accuracy: 1.0000 - precision_30: 1.0000 - recall_30: 1.0000\n",
      "Epoch 10/10\n",
      "24/24 [==============================] - 3s 115ms/step - loss: 0.0054 - accuracy: 1.0000 - precision_30: 1.0000 - recall_30: 1.0000\n"
     ]
    }
   ],
   "source": [
    "#Fit Model\n",
    "rnn_start_time = time.time()\n",
    "rnn_grid.fit(X_train, y_train)\n",
    "rnn_duration = time.time() - rnn_start_time"
   ]
  },
  {
   "cell_type": "code",
   "execution_count": 66,
   "id": "239a5346",
   "metadata": {},
   "outputs": [
    {
     "data": {
      "text/plain": [
       "{'epochs': 10, 'neurons': 32}"
      ]
     },
     "execution_count": 66,
     "metadata": {},
     "output_type": "execute_result"
    }
   ],
   "source": [
    "#Extract hyperparameters from the best estimator\n",
    "rnn_params = rnn_grid.best_params_\n",
    "rnn_params_df = pd.DataFrame([rnn_params])\n",
    "best_epochs = rnn_params_df.iloc[:,0].item()\n",
    "best_neurons = rnn_params_df.iloc[:,1].item()\n",
    "\n",
    "rnn_params"
   ]
  },
  {
   "cell_type": "markdown",
   "id": "01fff566",
   "metadata": {},
   "source": [
    "<a id=\"section3D\"></a>\n",
    "## 3D: Model Review and Comparison"
   ]
  },
  {
   "cell_type": "markdown",
   "id": "7724cd51",
   "metadata": {},
   "source": [
    "### i) Evalute Best RNN Model Performance"
   ]
  },
  {
   "cell_type": "code",
   "execution_count": 67,
   "id": "8afebc2b",
   "metadata": {},
   "outputs": [
    {
     "data": {
      "text/markdown": [
       "Based on the GridSearchCV method above, the optimal number for increasing our F1 score is 10 training epochs, and neurons for the LSTM layer is 32.\n",
       "\n",
       " We will retrain our model using these parameters below so we can visualize and analyse its performance over the training epochs:"
      ],
      "text/plain": [
       "<IPython.core.display.Markdown object>"
      ]
     },
     "metadata": {},
     "output_type": "display_data"
    }
   ],
   "source": [
    "display(Markdown(f\"Based on the GridSearchCV method above, the optimal number for increasing our F1 score is {best_epochs} training epochs, and neurons for the LSTM layer is {best_neurons}.\\n\\n We will retrain our model using these parameters below so we can visualize and analyse its performance over the training epochs:\"))"
   ]
  },
  {
   "cell_type": "code",
   "execution_count": 68,
   "id": "2627d1b2",
   "metadata": {},
   "outputs": [],
   "source": [
    "model = Sequential()\n",
    "model.add(Embedding(input_dim=vocab_size, output_dim=embedding_dim, input_length=max_length))\n",
    "model.add(LSTM(best_neurons))\n",
    "model.add(Dense(1, activation='sigmoid'))\n",
    "\n",
    "model.compile(optimizer='adam', loss='binary_crossentropy', metrics=['accuracy',Precision(), Recall()])"
   ]
  },
  {
   "cell_type": "code",
   "execution_count": 69,
   "id": "ad784148",
   "metadata": {},
   "outputs": [
    {
     "name": "stdout",
     "output_type": "stream",
     "text": [
      "Epoch 1/10\n",
      "24/24 [==============================] - 5s 133ms/step - loss: 0.6811 - accuracy: 0.6027 - precision_31: 0.5849 - recall_31: 0.1010 - val_loss: 0.6624 - val_accuracy: 0.5800 - val_precision_31: 1.0000 - val_recall_31: 0.0870\n",
      "Epoch 2/10\n",
      "24/24 [==============================] - 3s 116ms/step - loss: 0.5557 - accuracy: 0.6493 - precision_31: 1.0000 - recall_31: 0.1433 - val_loss: 0.4622 - val_accuracy: 0.7640 - val_precision_31: 1.0000 - val_recall_31: 0.4870\n",
      "Epoch 3/10\n",
      "24/24 [==============================] - 3s 117ms/step - loss: 0.2509 - accuracy: 0.9707 - precision_31: 0.9931 - recall_31: 0.9349 - val_loss: 0.3309 - val_accuracy: 0.8960 - val_precision_31: 0.9238 - val_recall_31: 0.8435\n",
      "Epoch 4/10\n",
      "24/24 [==============================] - 3s 120ms/step - loss: 0.1199 - accuracy: 0.9973 - precision_31: 1.0000 - recall_31: 0.9935 - val_loss: 0.3119 - val_accuracy: 0.8800 - val_precision_31: 0.9126 - val_recall_31: 0.8174\n",
      "Epoch 5/10\n",
      "24/24 [==============================] - 3s 122ms/step - loss: 0.0612 - accuracy: 1.0000 - precision_31: 1.0000 - recall_31: 1.0000 - val_loss: 0.3638 - val_accuracy: 0.8720 - val_precision_31: 0.8739 - val_recall_31: 0.8435\n",
      "Epoch 6/10\n",
      "24/24 [==============================] - 3s 117ms/step - loss: 0.0322 - accuracy: 0.9987 - precision_31: 1.0000 - recall_31: 0.9967 - val_loss: 0.2943 - val_accuracy: 0.8680 - val_precision_31: 0.8254 - val_recall_31: 0.9043\n",
      "Epoch 7/10\n",
      "24/24 [==============================] - 3s 118ms/step - loss: 0.0199 - accuracy: 1.0000 - precision_31: 1.0000 - recall_31: 1.0000 - val_loss: 0.3769 - val_accuracy: 0.8560 - val_precision_31: 0.8376 - val_recall_31: 0.8522\n",
      "Epoch 8/10\n",
      "24/24 [==============================] - 3s 118ms/step - loss: 0.0134 - accuracy: 1.0000 - precision_31: 1.0000 - recall_31: 1.0000 - val_loss: 0.3482 - val_accuracy: 0.8560 - val_precision_31: 0.8062 - val_recall_31: 0.9043\n",
      "Epoch 9/10\n",
      "24/24 [==============================] - 3s 118ms/step - loss: 0.0098 - accuracy: 0.9987 - precision_31: 1.0000 - recall_31: 0.9967 - val_loss: 0.3832 - val_accuracy: 0.8600 - val_precision_31: 0.8175 - val_recall_31: 0.8957\n",
      "Epoch 10/10\n",
      "24/24 [==============================] - 3s 123ms/step - loss: 0.0077 - accuracy: 1.0000 - precision_31: 1.0000 - recall_31: 1.0000 - val_loss: 0.3731 - val_accuracy: 0.8560 - val_precision_31: 0.7970 - val_recall_31: 0.9217\n"
     ]
    }
   ],
   "source": [
    "history = model.fit(X_train, y_train, epochs=best_epochs, batch_size=32, validation_data=(X_test, y_test))"
   ]
  },
  {
   "cell_type": "markdown",
   "id": "57e14697",
   "metadata": {},
   "source": [
    "Below we manually calculate the F1 score, since it is not part of Tensorflow metric database."
   ]
  },
  {
   "cell_type": "code",
   "execution_count": 70,
   "id": "56bc72e5",
   "metadata": {},
   "outputs": [],
   "source": [
    "#Reset column names after epoch training\n",
    "history_df = pd.DataFrame(history.history)\n",
    "new_column_names = ['loss',\n",
    " 'accuracy',\n",
    " 'precision',\n",
    " 'recall',\n",
    " 'val_loss',\n",
    " 'val_accuracy',\n",
    " 'val_precision',\n",
    " 'val_recall']\n",
    "history_df.columns = new_column_names"
   ]
  },
  {
   "cell_type": "code",
   "execution_count": 71,
   "id": "b7c758f2",
   "metadata": {},
   "outputs": [],
   "source": [
    "# Calculating F1 score\n",
    "history_df['f1_train'] = 2 * (history_df['precision'] * history_df['recall']) / (history_df['precision'] + history_df['recall'])\n",
    "history_df['f1_val'] = 2 * (history_df['val_precision'] * history_df['val_recall']) / (history_df['val_precision'] + history_df['val_recall'])\n"
   ]
  },
  {
   "cell_type": "markdown",
   "id": "a90f14e8",
   "metadata": {},
   "source": [
    "Below we visualize the performance of the model over the training epochs based on each of our metrics."
   ]
  },
  {
   "cell_type": "code",
   "execution_count": 72,
   "id": "6daa5ec4",
   "metadata": {},
   "outputs": [
    {
     "data": {
      "image/png": "[encoded data removed]",
      "text/plain": [
       "<Figure size 1500x1000 with 5 Axes>"
      ]
     },
     "metadata": {},
     "output_type": "display_data"
    }
   ],
   "source": [
    "epochs = range(1, len(history_df) + 1)\n",
    "\n",
    "plt.figure(figsize=(15, 10))\n",
    "\n",
    "# Plotting Accuracy\n",
    "plt.subplot(2, 3, 1)\n",
    "plt.plot(epochs, history_df['accuracy'], 'bo-', label='Train Accuracy')\n",
    "plt.plot(epochs, history_df['val_accuracy'], 'ro-', label='Test Accuracy')\n",
    "plt.title('Train and Test Accuracy')\n",
    "plt.xlabel('Epochs')\n",
    "plt.ylabel('Accuracy')\n",
    "plt.legend()\n",
    "\n",
    "# Plotting Loss\n",
    "plt.subplot(2, 3, 2)\n",
    "plt.plot(epochs, history_df['loss'], 'bo-', label='Train Loss')\n",
    "plt.plot(epochs, history_df['val_loss'], 'ro-', label='Test Loss')\n",
    "plt.title('Train and Test Loss')\n",
    "plt.xlabel('Epochs')\n",
    "plt.ylabel('Loss')\n",
    "plt.legend()\n",
    "\n",
    "# Plotting Precision\n",
    "plt.subplot(2, 3, 3)\n",
    "plt.plot(epochs, history_df['precision'], 'bo-', label='Train Precision')\n",
    "plt.plot(epochs, history_df['val_precision'], 'ro-', label='Test Precision')\n",
    "plt.title('Train and Test Precision')\n",
    "plt.xlabel('Epochs')\n",
    "plt.ylabel('Precision')\n",
    "plt.legend()\n",
    "\n",
    "# Plotting Recall\n",
    "plt.subplot(2, 3, 4)\n",
    "plt.plot(epochs, history_df['recall'], 'bo-', label='Train Recall')\n",
    "plt.plot(epochs, history_df['val_recall'], 'ro-', label='Test Recall')\n",
    "plt.title('Train and Test Recall')\n",
    "plt.xlabel('Epochs')\n",
    "plt.ylabel('Recall')\n",
    "plt.legend()\n",
    "\n",
    "# Plotting F1 Score\n",
    "plt.subplot(2, 3, 5)\n",
    "plt.plot(epochs, history_df['f1_train'], 'bo-', label='Train F1 Score')\n",
    "plt.plot(epochs, history_df['f1_val'], 'ro-', label='Test F1 Score')\n",
    "plt.title('Train and Test F1 Score')\n",
    "plt.xlabel('Epochs')\n",
    "plt.ylabel('F1 Score')\n",
    "plt.legend()\n",
    "\n",
    "plt.tight_layout()\n",
    "plt.show()\n"
   ]
  },
  {
   "cell_type": "markdown",
   "id": "8f928985",
   "metadata": {},
   "source": [
    "Note that due to the nature of neural networks, these results will change slightly each time this notebook is run.\n",
    "\n",
    "However as we can see, despite the gridsearch method to find optimal paramters, the model starts to perform perfectly on all metrics when fitting the training data as the number of epochs increase, indicating that our model is starting to overfit after several epochs.\n",
    "\n",
    "As with most machine learning, the more the model starts to overfit the training data, the less well it generalizes on new unseen data, which we can see in the 'Train and Test Loss' graph, which shows that the Test loss starts to increase while the Train loss decreases, once the model starts overfitting.  \n",
    "\n",
    "We want to choose the number of epochs that minimizes loss, and also maintains a good F1 score.  As we can see, the F1 score stays fairly constant or increases through to the end of the training, however this is just based on this dataset.  If the model can't generalize to new unseen data, it is not practically useful.\n",
    "\n",
    "Based on our time constraints, we will leave the model as is as it still performs better than the previous non-neural networks.  However recommended next steps are to tune the model further (such as reducing number of epochs) to ensure that the model can generalize better. "
   ]
  },
  {
   "cell_type": "markdown",
   "id": "e2d1e4ff",
   "metadata": {},
   "source": [
    "As before, we also visualize the PR-AUC curve to see how the model fares with balancing recall and precision over different thresholds."
   ]
  },
  {
   "cell_type": "code",
   "execution_count": 73,
   "id": "18d11fb3",
   "metadata": {},
   "outputs": [
    {
     "name": "stdout",
     "output_type": "stream",
     "text": [
      "8/8 [==============================] - 0s 30ms/step\n"
     ]
    },
    {
     "data": {
      "image/png": "[encoded data removed]",
      "text/plain": [
       "<Figure size 640x480 with 1 Axes>"
      ]
     },
     "metadata": {},
     "output_type": "display_data"
    }
   ],
   "source": [
    "# Predict the probabilities\n",
    "y_pred_probs = model.predict(X_test)\n",
    "\n",
    "# Calculate precision and recall for various thresholds\n",
    "precision, recall, thresholds = precision_recall_curve(y_test, y_pred_probs)\n",
    "\n",
    "# Calculate PR AUC\n",
    "rnn_pr_auc = auc(recall, precision)\n",
    "\n",
    "# Plot the PR curve\n",
    "plt.figure()\n",
    "plt.plot(recall, precision, label='PR Curve (AUC = %0.2f)' % rnn_pr_auc)\n",
    "plt.xlabel('Recall')\n",
    "plt.ylabel('Precision')\n",
    "plt.title('RNN Model Precision-Recall Area Under Curve (PR-AUC)')\n",
    "plt.legend(loc=\"lower left\")\n",
    "plt.show()"
   ]
  },
  {
   "cell_type": "markdown",
   "id": "55419d12",
   "metadata": {},
   "source": [
    "### ii) Compare RNN with non neural models"
   ]
  },
  {
   "cell_type": "code",
   "execution_count": 74,
   "id": "a2009774",
   "metadata": {},
   "outputs": [
    {
     "name": "stdout",
     "output_type": "stream",
     "text": [
      "8/8 [==============================] - 0s 30ms/step\n"
     ]
    }
   ],
   "source": [
    "#Recheck metrics by predicting on X_test data, and converting probabilities to classes:\n",
    "y_pred_prob = model.predict(X_test)\n",
    "y_pred_class = (y_pred_prob > 0.5).astype(int)\n",
    "\n",
    "# Score best estimator\n",
    "rnn_accuracy = accuracy_score(y_test, y_pred_class)\n",
    "rnn_recall = recall_score(y_test, y_pred_class)\n",
    "rnn_precision = precision_score(y_test, y_pred_class)\n",
    "rnn_f1 = f1_score(y_test, y_pred_class)\n"
   ]
  },
  {
   "cell_type": "code",
   "execution_count": 75,
   "id": "95da6679",
   "metadata": {},
   "outputs": [
    {
     "data": {
      "text/html": [
       "<div>\n",
       "<style scoped>\n",
       "    .dataframe tbody tr th:only-of-type {\n",
       "        vertical-align: middle;\n",
       "    }\n",
       "\n",
       "    .dataframe tbody tr th {\n",
       "        vertical-align: top;\n",
       "    }\n",
       "\n",
       "    .dataframe thead th {\n",
       "        text-align: right;\n",
       "    }\n",
       "</style>\n",
       "<table border=\"1\" class=\"dataframe\">\n",
       "  <thead>\n",
       "    <tr style=\"text-align: right;\">\n",
       "      <th></th>\n",
       "      <th>Model</th>\n",
       "      <th>Train Duration</th>\n",
       "      <th>Test Accuracy</th>\n",
       "      <th>Test Recall</th>\n",
       "      <th>Test Precision</th>\n",
       "      <th>Test F1</th>\n",
       "      <th>Test PR AUC</th>\n",
       "    </tr>\n",
       "  </thead>\n",
       "  <tbody>\n",
       "    <tr>\n",
       "      <th>0</th>\n",
       "      <td>Naive Bayes</td>\n",
       "      <td>0.348</td>\n",
       "      <td>0.744</td>\n",
       "      <td>0.583</td>\n",
       "      <td>0.807</td>\n",
       "      <td>0.677</td>\n",
       "      <td>0.826</td>\n",
       "    </tr>\n",
       "    <tr>\n",
       "      <th>1</th>\n",
       "      <td>Decision Tree</td>\n",
       "      <td>8.689</td>\n",
       "      <td>0.684</td>\n",
       "      <td>0.330</td>\n",
       "      <td>0.950</td>\n",
       "      <td>0.490</td>\n",
       "      <td>0.817</td>\n",
       "    </tr>\n",
       "    <tr>\n",
       "      <th>2</th>\n",
       "      <td>Logistic Regression</td>\n",
       "      <td>0.883</td>\n",
       "      <td>0.796</td>\n",
       "      <td>0.765</td>\n",
       "      <td>0.786</td>\n",
       "      <td>0.775</td>\n",
       "      <td>0.865</td>\n",
       "    </tr>\n",
       "    <tr>\n",
       "      <th>3</th>\n",
       "      <td>SVC</td>\n",
       "      <td>2.115</td>\n",
       "      <td>0.784</td>\n",
       "      <td>0.635</td>\n",
       "      <td>0.859</td>\n",
       "      <td>0.730</td>\n",
       "      <td>0.867</td>\n",
       "    </tr>\n",
       "    <tr>\n",
       "      <th>4</th>\n",
       "      <td>RNN</td>\n",
       "      <td>544.263</td>\n",
       "      <td>0.856</td>\n",
       "      <td>0.922</td>\n",
       "      <td>0.797</td>\n",
       "      <td>0.855</td>\n",
       "      <td>0.959</td>\n",
       "    </tr>\n",
       "  </tbody>\n",
       "</table>\n",
       "</div>"
      ],
      "text/plain": [
       "                 Model  Train Duration  Test Accuracy  Test Recall  \\\n",
       "0          Naive Bayes           0.348          0.744        0.583   \n",
       "1        Decision Tree           8.689          0.684        0.330   \n",
       "2  Logistic Regression           0.883          0.796        0.765   \n",
       "3                  SVC           2.115          0.784        0.635   \n",
       "4                  RNN         544.263          0.856        0.922   \n",
       "\n",
       "   Test Precision  Test F1  Test PR AUC  \n",
       "0           0.807    0.677        0.826  \n",
       "1           0.950    0.490        0.817  \n",
       "2           0.786    0.775        0.865  \n",
       "3           0.859    0.730        0.867  \n",
       "4           0.797    0.855        0.959  "
      ]
     },
     "execution_count": 75,
     "metadata": {},
     "output_type": "execute_result"
    }
   ],
   "source": [
    "#Append results to the model comparison dataframe:\n",
    "\n",
    "rnn_report = {\n",
    "    'Model': 'RNN',\n",
    "    'Train Duration': rnn_duration,\n",
    "    'Test Accuracy': rnn_accuracy,\n",
    "    'Test Recall': rnn_recall,\n",
    "    'Test Precision': rnn_precision,\n",
    "    'Test F1': rnn_f1,\n",
    "    'Test PR AUC': rnn_pr_auc}\n",
    "\n",
    "rnn_report = pd.DataFrame([rnn_report])\n",
    "results_df = pd.concat([results_df, rnn_report], ignore_index=True).round(3)\n",
    "results_df"
   ]
  },
  {
   "cell_type": "code",
   "execution_count": 76,
   "id": "02ece30b",
   "metadata": {},
   "outputs": [
    {
     "data": {
      "text/markdown": [
       "Based on the final comparison table, we can see that the RNN model has improved performance based on the F1 score of 0.855 compared to the best performing non-neural model Logistic Regression with an F1 score of 0.775, as well as an improved PR-AUC score of  0.959 compared with  0.867."
      ],
      "text/plain": [
       "<IPython.core.display.Markdown object>"
      ]
     },
     "metadata": {},
     "output_type": "display_data"
    }
   ],
   "source": [
    "display(Markdown(f\"Based on the final comparison table, we can see that the RNN model has improved performance based on the F1 score of {rnn_f1:0.3f} compared to the best performing non-neural model Logistic Regression with an F1 score of {lr_f1:.3f}, as well as an improved PR-AUC score of {rnn_pr_auc: 0.03f} compared with {svc_pr_auc: 0.03f}.\"))"
   ]
  },
  {
   "cell_type": "code",
   "execution_count": 77,
   "id": "f03ce4e4",
   "metadata": {},
   "outputs": [
    {
     "data": {
      "image/png": "[encoded data removed]",
      "text/plain": [
       "<Figure size 640x480 with 2 Axes>"
      ]
     },
     "metadata": {},
     "output_type": "display_data"
    }
   ],
   "source": [
    "# Generate the confusion matrix\n",
    "conf_matrix = confusion_matrix(y_test, y_pred_class)\n",
    "\n",
    "#Extract false positives\n",
    "rnn_FP = conf_matrix[0][1]\n",
    "#Extract false negatives\n",
    "rnn_FN = conf_matrix[1][0]\n",
    "\n",
    "# Plot the confusion matrix \n",
    "ConfusionMatrixDisplay(confusion_matrix=conf_matrix, display_labels=['0: Real', '1: Fake']).plot(values_format='d', cmap='Blues')\n",
    "plt.title('RNN Model Confusion Matrix')\n",
    "plt.ylabel('True Class')\n",
    "plt.xlabel('Predicted Class')\n",
    "plt.grid(False)\n",
    "plt.show()"
   ]
  },
  {
   "cell_type": "code",
   "execution_count": 78,
   "id": "693b3bc8",
   "metadata": {},
   "outputs": [
    {
     "data": {
      "text/markdown": [
       "Reviewing the confusion matrix, we can more clearly understand that the RNN model has changed the number of:\n",
       "\n",
       " - False Positives (Real news incorrectly identified as Fake) from 24 to 27 \n",
       "\n",
       " - False Negatives (Fake news incorrectly identified as Real) from 27 to 9 \n",
       "\n",
       "when compared with the best performing non neural network (Logistic Regression)."
      ],
      "text/plain": [
       "<IPython.core.display.Markdown object>"
      ]
     },
     "metadata": {},
     "output_type": "display_data"
    }
   ],
   "source": [
    "display(Markdown(f\"Reviewing the confusion matrix, we can more clearly understand that the RNN model has changed the number of:\\n\\n - False Positives (Real news incorrectly identified as Fake) from {lr_FP} to {rnn_FP} \\n\\n - False Negatives (Fake news incorrectly identified as Real) from {lr_FN} to {rnn_FN} \\n\\nwhen compared with the best performing non neural network (Logistic Regression).\"))"
   ]
  }
 ],
 "metadata": {
  "kernelspec": {
   "display_name": "Python 3 (ipykernel)",
   "language": "python",
   "name": "python3"
  },
  "language_info": {
   "codemirror_mode": {
    "name": "ipython",
    "version": 3
   },
   "file_extension": ".py",
   "mimetype": "text/x-python",
   "name": "python",
   "nbconvert_exporter": "python",
   "pygments_lexer": "ipython3",
   "version": "3.11.5"
  }
 },
 "nbformat": 4,
 "nbformat_minor": 5
}
